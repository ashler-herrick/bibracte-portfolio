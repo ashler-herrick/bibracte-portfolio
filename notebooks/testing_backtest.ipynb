{
 "cells": [
  {
   "cell_type": "code",
   "execution_count": 1,
   "metadata": {},
   "outputs": [],
   "source": [
    "%load_ext autoreload\n",
    "%autoreload 2"
   ]
  },
  {
   "cell_type": "code",
   "execution_count": 2,
   "metadata": {},
   "outputs": [],
   "source": [
    "\n",
    "import polars as pl\n",
    "df = pl.read_parquet(r\"C:\\Users\\Ashle\\OneDrive\\Documents\\bet_edge\\data\\es_cont_ohlcv_20160601_to_20250108.parquet\")"
   ]
  },
  {
   "cell_type": "code",
   "execution_count": null,
   "metadata": {},
   "outputs": [],
   "source": [
    "from bet_edge.backtesting.strategies.ma_cross_macd_strategy import MACrossMACDStrategy\n",
    "\n",
    "strategy = MACrossMACDStrategy(p)  # example symbol for E-mini S&P Futures\n",
    "portfolio = Portfolio(initial_capital=100_000.0)\n",
    "execution_handler = ExecutionHandler()\n",
    "\n",
    "# 2) Main loop\n",
    "while True:\n",
    "    # Get next bar\n",
    "    market_event = data_handler.get_next_bar()\n",
    "    if market_event is None:\n",
    "        # End of data\n",
    "        break\n",
    "\n",
    "    # Pass the MarketEvent to the Strategy\n",
    "    signal_event = strategy.calculate_signals(market_event)\n",
    "    if signal_event is not None:\n",
    "        # Portfolio -> creates an OrderEvent\n",
    "        order_event = portfolio.on_signal(signal_event)\n",
    "        if order_event is not None:\n",
    "            # Execution Handler -> simulates fill\n",
    "            fill_event = execution_handler.execute_order(order_event, market_event)\n",
    "            if fill_event is not None:\n",
    "                # Update portfolio with the fill\n",
    "                portfolio.on_fill(fill_event)\n",
    "\n",
    "# 3) Print final results\n",
    "print(f\"Final Equity: {portfolio.total_equity:.2f}\")\n",
    "print(\"Positions:\", portfolio.positions)\n",
    "print(\"Remaining Cash:\", portfolio.current_cash)"
   ]
  }
 ],
 "metadata": {
  "kernelspec": {
   "display_name": ".venv",
   "language": "python",
   "name": "python3"
  },
  "language_info": {
   "codemirror_mode": {
    "name": "ipython",
    "version": 3
   },
   "file_extension": ".py",
   "mimetype": "text/x-python",
   "name": "python",
   "nbconvert_exporter": "python",
   "pygments_lexer": "ipython3",
   "version": "3.11.0"
  }
 },
 "nbformat": 4,
 "nbformat_minor": 2
}
