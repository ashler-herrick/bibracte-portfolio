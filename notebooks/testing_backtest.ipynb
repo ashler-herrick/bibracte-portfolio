{
 "cells": [
  {
   "cell_type": "code",
   "execution_count": 1,
   "metadata": {},
   "outputs": [],
   "source": [
    "%load_ext autoreload\n",
    "%autoreload 2"
   ]
  },
  {
   "cell_type": "code",
   "execution_count": 2,
   "metadata": {},
   "outputs": [],
   "source": [
    "\n",
    "import polars as pl\n",
    "df = pl.read_parquet(r\"C:\\Users\\Ashle\\OneDrive\\Documents\\bet_edge\\data\\es_cont_ohlcv_20160601_to_20250108.parquet\")"
   ]
  },
  {
   "cell_type": "code",
   "execution_count": 17,
   "metadata": {},
   "outputs": [
    {
     "name": "stdout",
     "output_type": "stream",
     "text": [
      "Final Equity: 100298.25\n",
      "Positions: {'ES_F': 0}\n",
      "Remaining Cash: 100298.25\n"
     ]
    }
   ],
   "source": [
    "from bet_edge.backtesting.strategies.ma_cross_macd_strategy import MACrossMACDStrategy\n",
    "from bet_edge.backtesting.portfolio import Portfolio\n",
    "from bet_edge.backtesting.execution_handler import ExecutionHandler\n",
    "from bet_edge.backtesting.events import *\n",
    "strategy = MACrossMACDStrategy('test_trend_strat', {}, {\"ohlcv_1m\" : df})\n",
    "portfolio = Portfolio(initial_capital=100_000.0)\n",
    "execution_handler = ExecutionHandler()\n",
    "\n",
    "trade_log = []\n",
    "# 2) Main loop\n",
    "for row in strategy.data[\"signals_df\"].iter_rows(named=True):\n",
    "\n",
    "    market_event = MarketEvent(\n",
    "            timestamp=str(row[\"ts_event\"]), \n",
    "            bar_data=row\n",
    "        )\n",
    "    # Pass the MarketEvent to the Strategy\n",
    "    signal_event = strategy.calculate_signals(market_event)\n",
    "    if signal_event is not None:\n",
    "        # Portfolio -> creates an OrderEvent\n",
    "        order_event = portfolio.on_signal(signal_event)\n",
    "        if order_event is not None:\n",
    "            # Execution Handler -> simulates fill\n",
    "            fill_event = execution_handler.execute_order(order_event, market_event)\n",
    "            if fill_event is not None:\n",
    "                # Update portfolio with the fill\n",
    "                portfolio.on_fill(fill_event)\n",
    "                # 3) Record trade/fill details\n",
    "                trade_log.append({\n",
    "                    \"timestamp\": fill_event.timestamp,\n",
    "                    \"symbol\": fill_event.symbol,\n",
    "                    \"direction\": fill_event.direction,\n",
    "                    \"quantity\": fill_event.quantity,\n",
    "                    \"fill_price\": fill_event.fill_price,\n",
    "                    # You could also record PnL, commissions, etc. here\n",
    "                })\n",
    "\n",
    "\n",
    "# 3) Print final results\n",
    "print(f\"Final Equity: {portfolio.total_equity:.2f}\")\n",
    "print(\"Positions:\", portfolio.positions)\n",
    "print(\"Remaining Cash:\", portfolio.current_cash)"
   ]
  },
  {
   "cell_type": "code",
   "execution_count": 18,
   "metadata": {},
   "outputs": [
    {
     "data": {
      "text/html": [
       "<div><style>\n",
       ".dataframe > thead > tr,\n",
       ".dataframe > tbody > tr {\n",
       "  text-align: right;\n",
       "  white-space: pre-wrap;\n",
       "}\n",
       "</style>\n",
       "<small>shape: (16_510, 5)</small><table border=\"1\" class=\"dataframe\"><thead><tr><th>timestamp</th><th>symbol</th><th>direction</th><th>quantity</th><th>fill_price</th></tr><tr><td>str</td><td>str</td><td>str</td><td>i64</td><td>f64</td></tr></thead><tbody><tr><td>&quot;2016-06-01 07:51:00&quot;</td><td>&quot;ES_F&quot;</td><td>&quot;BUY&quot;</td><td>1</td><td>2093.75</td></tr><tr><td>&quot;2016-06-01 07:55:00&quot;</td><td>&quot;ES_F&quot;</td><td>&quot;SELL&quot;</td><td>1</td><td>2093.25</td></tr><tr><td>&quot;2016-06-01 15:53:00&quot;</td><td>&quot;ES_F&quot;</td><td>&quot;BUY&quot;</td><td>1</td><td>2092.5</td></tr><tr><td>&quot;2016-06-01 16:14:00&quot;</td><td>&quot;ES_F&quot;</td><td>&quot;SELL&quot;</td><td>1</td><td>2094.25</td></tr><tr><td>&quot;2016-06-01 18:12:00&quot;</td><td>&quot;ES_F&quot;</td><td>&quot;BUY&quot;</td><td>1</td><td>2095.25</td></tr><tr><td>&hellip;</td><td>&hellip;</td><td>&hellip;</td><td>&hellip;</td><td>&hellip;</td></tr><tr><td>&quot;2025-01-07 07:20:00&quot;</td><td>&quot;ES_F&quot;</td><td>&quot;SELL&quot;</td><td>1</td><td>6016.0</td></tr><tr><td>&quot;2025-01-07 10:14:00&quot;</td><td>&quot;ES_F&quot;</td><td>&quot;BUY&quot;</td><td>1</td><td>6025.75</td></tr><tr><td>&quot;2025-01-07 11:26:00&quot;</td><td>&quot;ES_F&quot;</td><td>&quot;SELL&quot;</td><td>1</td><td>6029.0</td></tr><tr><td>&quot;2025-01-07 12:14:00&quot;</td><td>&quot;ES_F&quot;</td><td>&quot;BUY&quot;</td><td>1</td><td>6025.25</td></tr><tr><td>&quot;2025-01-07 12:33:00&quot;</td><td>&quot;ES_F&quot;</td><td>&quot;SELL&quot;</td><td>1</td><td>6028.0</td></tr></tbody></table></div>"
      ],
      "text/plain": [
       "shape: (16_510, 5)\n",
       "┌─────────────────────┬────────┬───────────┬──────────┬────────────┐\n",
       "│ timestamp           ┆ symbol ┆ direction ┆ quantity ┆ fill_price │\n",
       "│ ---                 ┆ ---    ┆ ---       ┆ ---      ┆ ---        │\n",
       "│ str                 ┆ str    ┆ str       ┆ i64      ┆ f64        │\n",
       "╞═════════════════════╪════════╪═══════════╪══════════╪════════════╡\n",
       "│ 2016-06-01 07:51:00 ┆ ES_F   ┆ BUY       ┆ 1        ┆ 2093.75    │\n",
       "│ 2016-06-01 07:55:00 ┆ ES_F   ┆ SELL      ┆ 1        ┆ 2093.25    │\n",
       "│ 2016-06-01 15:53:00 ┆ ES_F   ┆ BUY       ┆ 1        ┆ 2092.5     │\n",
       "│ 2016-06-01 16:14:00 ┆ ES_F   ┆ SELL      ┆ 1        ┆ 2094.25    │\n",
       "│ 2016-06-01 18:12:00 ┆ ES_F   ┆ BUY       ┆ 1        ┆ 2095.25    │\n",
       "│ …                   ┆ …      ┆ …         ┆ …        ┆ …          │\n",
       "│ 2025-01-07 07:20:00 ┆ ES_F   ┆ SELL      ┆ 1        ┆ 6016.0     │\n",
       "│ 2025-01-07 10:14:00 ┆ ES_F   ┆ BUY       ┆ 1        ┆ 6025.75    │\n",
       "│ 2025-01-07 11:26:00 ┆ ES_F   ┆ SELL      ┆ 1        ┆ 6029.0     │\n",
       "│ 2025-01-07 12:14:00 ┆ ES_F   ┆ BUY       ┆ 1        ┆ 6025.25    │\n",
       "│ 2025-01-07 12:33:00 ┆ ES_F   ┆ SELL      ┆ 1        ┆ 6028.0     │\n",
       "└─────────────────────┴────────┴───────────┴──────────┴────────────┘"
      ]
     },
     "execution_count": 18,
     "metadata": {},
     "output_type": "execute_result"
    }
   ],
   "source": [
    "df_trades = pl.DataFrame(trade_log)\n",
    "df_trades"
   ]
  },
  {
   "cell_type": "code",
   "execution_count": 19,
   "metadata": {},
   "outputs": [],
   "source": [
    "signals = strategy.data[\"signals_df\"]"
   ]
  },
  {
   "cell_type": "code",
   "execution_count": 26,
   "metadata": {},
   "outputs": [
    {
     "data": {
      "text/html": [
       "<div><style>\n",
       ".dataframe > thead > tr,\n",
       ".dataframe > tbody > tr {\n",
       "  text-align: right;\n",
       "  white-space: pre-wrap;\n",
       "}\n",
       "</style>\n",
       "<small>shape: (6, 5)</small><table border=\"1\" class=\"dataframe\"><thead><tr><th>timestamp</th><th>symbol</th><th>direction</th><th>quantity</th><th>fill_price</th></tr><tr><td>str</td><td>str</td><td>str</td><td>i64</td><td>f64</td></tr></thead><tbody><tr><td>&quot;2016-06-01 07:51:00&quot;</td><td>&quot;ES_F&quot;</td><td>&quot;BUY&quot;</td><td>1</td><td>2093.75</td></tr><tr><td>&quot;2016-06-01 07:55:00&quot;</td><td>&quot;ES_F&quot;</td><td>&quot;SELL&quot;</td><td>1</td><td>2093.25</td></tr><tr><td>&quot;2016-06-01 15:53:00&quot;</td><td>&quot;ES_F&quot;</td><td>&quot;BUY&quot;</td><td>1</td><td>2092.5</td></tr><tr><td>&quot;2016-06-01 16:14:00&quot;</td><td>&quot;ES_F&quot;</td><td>&quot;SELL&quot;</td><td>1</td><td>2094.25</td></tr><tr><td>&quot;2016-06-01 18:12:00&quot;</td><td>&quot;ES_F&quot;</td><td>&quot;BUY&quot;</td><td>1</td><td>2095.25</td></tr><tr><td>&quot;2016-06-01 18:18:00&quot;</td><td>&quot;ES_F&quot;</td><td>&quot;SELL&quot;</td><td>1</td><td>2097.5</td></tr></tbody></table></div>"
      ],
      "text/plain": [
       "shape: (6, 5)\n",
       "┌─────────────────────┬────────┬───────────┬──────────┬────────────┐\n",
       "│ timestamp           ┆ symbol ┆ direction ┆ quantity ┆ fill_price │\n",
       "│ ---                 ┆ ---    ┆ ---       ┆ ---      ┆ ---        │\n",
       "│ str                 ┆ str    ┆ str       ┆ i64      ┆ f64        │\n",
       "╞═════════════════════╪════════╪═══════════╪══════════╪════════════╡\n",
       "│ 2016-06-01 07:51:00 ┆ ES_F   ┆ BUY       ┆ 1        ┆ 2093.75    │\n",
       "│ 2016-06-01 07:55:00 ┆ ES_F   ┆ SELL      ┆ 1        ┆ 2093.25    │\n",
       "│ 2016-06-01 15:53:00 ┆ ES_F   ┆ BUY       ┆ 1        ┆ 2092.5     │\n",
       "│ 2016-06-01 16:14:00 ┆ ES_F   ┆ SELL      ┆ 1        ┆ 2094.25    │\n",
       "│ 2016-06-01 18:12:00 ┆ ES_F   ┆ BUY       ┆ 1        ┆ 2095.25    │\n",
       "│ 2016-06-01 18:18:00 ┆ ES_F   ┆ SELL      ┆ 1        ┆ 2097.5     │\n",
       "└─────────────────────┴────────┴───────────┴──────────┴────────────┘"
      ]
     },
     "execution_count": 26,
     "metadata": {},
     "output_type": "execute_result"
    }
   ],
   "source": [
    "from datetime import datetime, date\n",
    "\n",
    "df_trades.filter(pl.col(\"timestamp\").str.strptime(pl.Datetime, format=\"%Y-%m-%d %H:%M:%S\").is_between(\n",
    "date(2016, 6, 1),\n",
    "date(2016, 6, 2),\n",
    ") )"
   ]
  }
 ],
 "metadata": {
  "kernelspec": {
   "display_name": ".venv",
   "language": "python",
   "name": "python3"
  },
  "language_info": {
   "codemirror_mode": {
    "name": "ipython",
    "version": 3
   },
   "file_extension": ".py",
   "mimetype": "text/x-python",
   "name": "python",
   "nbconvert_exporter": "python",
   "pygments_lexer": "ipython3",
   "version": "3.11.0"
  }
 },
 "nbformat": 4,
 "nbformat_minor": 2
}
