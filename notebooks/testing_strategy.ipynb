{
 "cells": [
  {
   "cell_type": "code",
   "execution_count": 1,
   "metadata": {},
   "outputs": [],
   "source": [
    "%load_ext autoreload\n",
    "%autoreload 2"
   ]
  },
  {
   "cell_type": "code",
   "execution_count": 14,
   "metadata": {},
   "outputs": [],
   "source": [
    "\n",
    "import polars as pl\n",
    "df = pl.read_parquet(r\"C:\\Users\\Ashle\\OneDrive\\Documents\\bet_edge\\data\\es_cont_ohlcv_20160601_to_20250108.parquet\")"
   ]
  },
  {
   "cell_type": "code",
   "execution_count": 18,
   "metadata": {},
   "outputs": [
    {
     "data": {
      "text/html": [
       "<div><style>\n",
       ".dataframe > thead > tr,\n",
       ".dataframe > tbody > tr {\n",
       "  text-align: right;\n",
       "  white-space: pre-wrap;\n",
       "}\n",
       "</style>\n",
       "<small>shape: (10, 3)</small><table border=\"1\" class=\"dataframe\"><thead><tr><th>statistic</th><th>macd_signal</th><th>RSI</th></tr><tr><td>str</td><td>f64</td><td>f64</td></tr></thead><tbody><tr><td>&quot;count&quot;</td><td>3.0176e6</td><td>3.017561e6</td></tr><tr><td>&quot;null_count&quot;</td><td>0.0</td><td>39.0</td></tr><tr><td>&quot;mean&quot;</td><td>0.015985</td><td>NaN</td></tr><tr><td>&quot;std&quot;</td><td>1.455882</td><td>NaN</td></tr><tr><td>&quot;min&quot;</td><td>-29.673235</td><td>0.0</td></tr><tr><td>&quot;20%&quot;</td><td>-0.544484</td><td>42.592593</td></tr><tr><td>&quot;40%&quot;</td><td>-0.086628</td><td>48.101266</td></tr><tr><td>&quot;60%&quot;</td><td>0.175061</td><td>52.941176</td></tr><tr><td>&quot;80%&quot;</td><td>0.641719</td><td>58.4</td></tr><tr><td>&quot;max&quot;</td><td>29.73107</td><td>100.0</td></tr></tbody></table></div>"
      ],
      "text/plain": [
       "shape: (10, 3)\n",
       "┌────────────┬─────────────┬────────────┐\n",
       "│ statistic  ┆ macd_signal ┆ RSI        │\n",
       "│ ---        ┆ ---         ┆ ---        │\n",
       "│ str        ┆ f64         ┆ f64        │\n",
       "╞════════════╪═════════════╪════════════╡\n",
       "│ count      ┆ 3.0176e6    ┆ 3.017561e6 │\n",
       "│ null_count ┆ 0.0         ┆ 39.0       │\n",
       "│ mean       ┆ 0.015985    ┆ NaN        │\n",
       "│ std        ┆ 1.455882    ┆ NaN        │\n",
       "│ min        ┆ -29.673235  ┆ 0.0        │\n",
       "│ 20%        ┆ -0.544484   ┆ 42.592593  │\n",
       "│ 40%        ┆ -0.086628   ┆ 48.101266  │\n",
       "│ 60%        ┆ 0.175061    ┆ 52.941176  │\n",
       "│ 80%        ┆ 0.641719    ┆ 58.4       │\n",
       "│ max        ┆ 29.73107    ┆ 100.0      │\n",
       "└────────────┴─────────────┴────────────┘"
      ]
     },
     "execution_count": 18,
     "metadata": {},
     "output_type": "execute_result"
    }
   ],
   "source": [
    "from bet_edge.indicators.ohlcv_time_series import calc_macd, calc_crossover, calc_rsi\n",
    "\n",
    "df = calc_macd(df=df, col='close',fast_period=25, slow_period=50, signal_period=12)\n",
    "df = calc_rsi(df=df, col='close', window=40)\n",
    "df.select(pl.col(\"macd_signal\"), pl.col(\"RSI\")).describe([.2,.4,.6,.8])"
   ]
  },
  {
   "cell_type": "code",
   "execution_count": 19,
   "metadata": {},
   "outputs": [
    {
     "data": {
      "text/html": [
       "<div><style>\n",
       ".dataframe > thead > tr,\n",
       ".dataframe > tbody > tr {\n",
       "  text-align: right;\n",
       "  white-space: pre-wrap;\n",
       "}\n",
       "</style>\n",
       "<small>shape: (3_017_600, 21)</small><table border=\"1\" class=\"dataframe\"><thead><tr><th>ts_event</th><th>rtype</th><th>publisher_id</th><th>instrument_id</th><th>open</th><th>high</th><th>low</th><th>close</th><th>volume</th><th>symbol</th><th>ema_fast</th><th>ema_slow</th><th>MACD</th><th>macd_signal</th><th>delta</th><th>gain</th><th>loss</th><th>avg_gain</th><th>avg_loss</th><th>RS</th><th>RSI</th></tr><tr><td>datetime[ns, UTC]</td><td>u8</td><td>u16</td><td>u32</td><td>f64</td><td>f64</td><td>f64</td><td>f64</td><td>u64</td><td>str</td><td>f64</td><td>f64</td><td>f64</td><td>f64</td><td>f64</td><td>f64</td><td>f64</td><td>f64</td><td>f64</td><td>f64</td><td>f64</td></tr></thead><tbody><tr><td>2016-06-01 00:00:00 UTC</td><td>33</td><td>1</td><td>6505</td><td>2095.0</td><td>2095.5</td><td>2095.0</td><td>2095.25</td><td>118</td><td>&quot;ES.v.0&quot;</td><td>2095.25</td><td>2095.25</td><td>0.0</td><td>0.0</td><td>null</td><td>0.0</td><td>0.0</td><td>null</td><td>null</td><td>null</td><td>null</td></tr><tr><td>2016-06-01 00:01:00 UTC</td><td>33</td><td>1</td><td>6505</td><td>2095.25</td><td>2095.25</td><td>2095.0</td><td>2095.25</td><td>34</td><td>&quot;ES.v.0&quot;</td><td>2095.25</td><td>2095.25</td><td>0.0</td><td>0.0</td><td>0.0</td><td>0.0</td><td>0.0</td><td>null</td><td>null</td><td>null</td><td>null</td></tr><tr><td>2016-06-01 00:02:00 UTC</td><td>33</td><td>1</td><td>6505</td><td>2095.25</td><td>2095.5</td><td>2095.25</td><td>2095.25</td><td>109</td><td>&quot;ES.v.0&quot;</td><td>2095.25</td><td>2095.25</td><td>0.0</td><td>0.0</td><td>0.0</td><td>0.0</td><td>0.0</td><td>null</td><td>null</td><td>null</td><td>null</td></tr><tr><td>2016-06-01 00:03:00 UTC</td><td>33</td><td>1</td><td>6505</td><td>2095.5</td><td>2095.5</td><td>2095.0</td><td>2095.0</td><td>56</td><td>&quot;ES.v.0&quot;</td><td>2095.179808</td><td>2095.183701</td><td>-0.003893</td><td>-0.001229</td><td>-0.25</td><td>0.0</td><td>0.25</td><td>null</td><td>null</td><td>null</td><td>null</td></tr><tr><td>2016-06-01 00:04:00 UTC</td><td>33</td><td>1</td><td>6505</td><td>2095.0</td><td>2095.5</td><td>2095.0</td><td>2095.25</td><td>66</td><td>&quot;ES.v.0&quot;</td><td>2095.196179</td><td>2095.198042</td><td>-0.001864</td><td>-0.001401</td><td>0.25</td><td>0.25</td><td>0.0</td><td>null</td><td>null</td><td>null</td><td>null</td></tr><tr><td>&hellip;</td><td>&hellip;</td><td>&hellip;</td><td>&hellip;</td><td>&hellip;</td><td>&hellip;</td><td>&hellip;</td><td>&hellip;</td><td>&hellip;</td><td>&hellip;</td><td>&hellip;</td><td>&hellip;</td><td>&hellip;</td><td>&hellip;</td><td>&hellip;</td><td>&hellip;</td><td>&hellip;</td><td>&hellip;</td><td>&hellip;</td><td>&hellip;</td><td>&hellip;</td></tr><tr><td>2025-01-07 23:55:00 UTC</td><td>33</td><td>1</td><td>5002</td><td>5956.5</td><td>5957.0</td><td>5956.25</td><td>5956.75</td><td>65</td><td>&quot;ES.v.0&quot;</td><td>5954.874011</td><td>5954.429028</td><td>0.444983</td><td>0.274852</td><td>0.25</td><td>0.25</td><td>0.0</td><td>0.29375</td><td>0.14375</td><td>2.043478</td><td>67.142857</td></tr><tr><td>2025-01-07 23:56:00 UTC</td><td>33</td><td>1</td><td>5002</td><td>5956.75</td><td>5957.0</td><td>5956.75</td><td>5957.0</td><td>52</td><td>&quot;ES.v.0&quot;</td><td>5955.037549</td><td>5954.52985</td><td>0.507698</td><td>0.310675</td><td>0.25</td><td>0.25</td><td>0.0</td><td>0.275</td><td>0.14375</td><td>1.913043</td><td>65.671642</td></tr><tr><td>2025-01-07 23:57:00 UTC</td><td>33</td><td>1</td><td>5002</td><td>5957.0</td><td>5958.0</td><td>5957.0</td><td>5958.0</td><td>159</td><td>&quot;ES.v.0&quot;</td><td>5955.26543</td><td>5954.665935</td><td>0.599495</td><td>0.355109</td><td>1.0</td><td>1.0</td><td>0.0</td><td>0.275</td><td>0.14375</td><td>1.913043</td><td>65.671642</td></tr><tr><td>2025-01-07 23:58:00 UTC</td><td>33</td><td>1</td><td>5002</td><td>5957.75</td><td>5958.5</td><td>5957.75</td><td>5958.25</td><td>140</td><td>&quot;ES.v.0&quot;</td><td>5955.495012</td><td>5954.806486</td><td>0.688526</td><td>0.406403</td><td>0.25</td><td>0.25</td><td>0.0</td><td>0.28125</td><td>0.14375</td><td>1.956522</td><td>66.176471</td></tr><tr><td>2025-01-07 23:59:00 UTC</td><td>33</td><td>1</td><td>5002</td><td>5958.25</td><td>5958.75</td><td>5957.75</td><td>5958.25</td><td>530</td><td>&quot;ES.v.0&quot;</td><td>5955.706934</td><td>5954.941526</td><td>0.765408</td><td>0.461635</td><td>0.0</td><td>0.0</td><td>0.0</td><td>0.26875</td><td>0.14375</td><td>1.869565</td><td>65.151515</td></tr></tbody></table></div>"
      ],
      "text/plain": [
       "shape: (3_017_600, 21)\n",
       "┌─────────────┬───────┬─────────────┬─────────────┬───┬──────────┬──────────┬──────────┬───────────┐\n",
       "│ ts_event    ┆ rtype ┆ publisher_i ┆ instrument_ ┆ … ┆ avg_gain ┆ avg_loss ┆ RS       ┆ RSI       │\n",
       "│ ---         ┆ ---   ┆ d           ┆ id          ┆   ┆ ---      ┆ ---      ┆ ---      ┆ ---       │\n",
       "│ datetime[ns ┆ u8    ┆ ---         ┆ ---         ┆   ┆ f64      ┆ f64      ┆ f64      ┆ f64       │\n",
       "│ , UTC]      ┆       ┆ u16         ┆ u32         ┆   ┆          ┆          ┆          ┆           │\n",
       "╞═════════════╪═══════╪═════════════╪═════════════╪═══╪══════════╪══════════╪══════════╪═══════════╡\n",
       "│ 2016-06-01  ┆ 33    ┆ 1           ┆ 6505        ┆ … ┆ null     ┆ null     ┆ null     ┆ null      │\n",
       "│ 00:00:00    ┆       ┆             ┆             ┆   ┆          ┆          ┆          ┆           │\n",
       "│ UTC         ┆       ┆             ┆             ┆   ┆          ┆          ┆          ┆           │\n",
       "│ 2016-06-01  ┆ 33    ┆ 1           ┆ 6505        ┆ … ┆ null     ┆ null     ┆ null     ┆ null      │\n",
       "│ 00:01:00    ┆       ┆             ┆             ┆   ┆          ┆          ┆          ┆           │\n",
       "│ UTC         ┆       ┆             ┆             ┆   ┆          ┆          ┆          ┆           │\n",
       "│ 2016-06-01  ┆ 33    ┆ 1           ┆ 6505        ┆ … ┆ null     ┆ null     ┆ null     ┆ null      │\n",
       "│ 00:02:00    ┆       ┆             ┆             ┆   ┆          ┆          ┆          ┆           │\n",
       "│ UTC         ┆       ┆             ┆             ┆   ┆          ┆          ┆          ┆           │\n",
       "│ 2016-06-01  ┆ 33    ┆ 1           ┆ 6505        ┆ … ┆ null     ┆ null     ┆ null     ┆ null      │\n",
       "│ 00:03:00    ┆       ┆             ┆             ┆   ┆          ┆          ┆          ┆           │\n",
       "│ UTC         ┆       ┆             ┆             ┆   ┆          ┆          ┆          ┆           │\n",
       "│ 2016-06-01  ┆ 33    ┆ 1           ┆ 6505        ┆ … ┆ null     ┆ null     ┆ null     ┆ null      │\n",
       "│ 00:04:00    ┆       ┆             ┆             ┆   ┆          ┆          ┆          ┆           │\n",
       "│ UTC         ┆       ┆             ┆             ┆   ┆          ┆          ┆          ┆           │\n",
       "│ …           ┆ …     ┆ …           ┆ …           ┆ … ┆ …        ┆ …        ┆ …        ┆ …         │\n",
       "│ 2025-01-07  ┆ 33    ┆ 1           ┆ 5002        ┆ … ┆ 0.29375  ┆ 0.14375  ┆ 2.043478 ┆ 67.142857 │\n",
       "│ 23:55:00    ┆       ┆             ┆             ┆   ┆          ┆          ┆          ┆           │\n",
       "│ UTC         ┆       ┆             ┆             ┆   ┆          ┆          ┆          ┆           │\n",
       "│ 2025-01-07  ┆ 33    ┆ 1           ┆ 5002        ┆ … ┆ 0.275    ┆ 0.14375  ┆ 1.913043 ┆ 65.671642 │\n",
       "│ 23:56:00    ┆       ┆             ┆             ┆   ┆          ┆          ┆          ┆           │\n",
       "│ UTC         ┆       ┆             ┆             ┆   ┆          ┆          ┆          ┆           │\n",
       "│ 2025-01-07  ┆ 33    ┆ 1           ┆ 5002        ┆ … ┆ 0.275    ┆ 0.14375  ┆ 1.913043 ┆ 65.671642 │\n",
       "│ 23:57:00    ┆       ┆             ┆             ┆   ┆          ┆          ┆          ┆           │\n",
       "│ UTC         ┆       ┆             ┆             ┆   ┆          ┆          ┆          ┆           │\n",
       "│ 2025-01-07  ┆ 33    ┆ 1           ┆ 5002        ┆ … ┆ 0.28125  ┆ 0.14375  ┆ 1.956522 ┆ 66.176471 │\n",
       "│ 23:58:00    ┆       ┆             ┆             ┆   ┆          ┆          ┆          ┆           │\n",
       "│ UTC         ┆       ┆             ┆             ┆   ┆          ┆          ┆          ┆           │\n",
       "│ 2025-01-07  ┆ 33    ┆ 1           ┆ 5002        ┆ … ┆ 0.26875  ┆ 0.14375  ┆ 1.869565 ┆ 65.151515 │\n",
       "│ 23:59:00    ┆       ┆             ┆             ┆   ┆          ┆          ┆          ┆           │\n",
       "│ UTC         ┆       ┆             ┆             ┆   ┆          ┆          ┆          ┆           │\n",
       "└─────────────┴───────┴─────────────┴─────────────┴───┴──────────┴──────────┴──────────┴───────────┘"
      ]
     },
     "execution_count": 19,
     "metadata": {},
     "output_type": "execute_result"
    }
   ],
   "source": [
    "df"
   ]
  },
  {
   "cell_type": "code",
   "execution_count": 21,
   "metadata": {},
   "outputs": [
    {
     "data": {
      "text/html": [
       "<div><style>\n",
       ".dataframe > thead > tr,\n",
       ".dataframe > tbody > tr {\n",
       "  text-align: right;\n",
       "  white-space: pre-wrap;\n",
       "}\n",
       "</style>\n",
       "<small>shape: (10, 6)</small><table border=\"1\" class=\"dataframe\"><thead><tr><th>statistic</th><th>macd_cross_signal</th><th>high_rsi_signal</th><th>low_rsi_signal</th><th>middle_rsi_signal</th><th>middle_macd_signal</th></tr><tr><td>str</td><td>f64</td><td>f64</td><td>f64</td><td>f64</td><td>f64</td></tr></thead><tbody><tr><td>&quot;count&quot;</td><td>55371.0</td><td>176485.0</td><td>175342.0</td><td>3.017561e6</td><td>3.0176e6</td></tr><tr><td>&quot;null_count&quot;</td><td>2.962229e6</td><td>2.841115e6</td><td>2.842258e6</td><td>39.0</td><td>0.0</td></tr><tr><td>&quot;mean&quot;</td><td>0.000018</td><td>0.000006</td><td>0.0</td><td>0.208322</td><td>0.194514</td></tr><tr><td>&quot;std&quot;</td><td>1.000009</td><td>1.000003</td><td>1.000003</td><td>null</td><td>null</td></tr><tr><td>&quot;min&quot;</td><td>-1.0</td><td>-1.0</td><td>-1.0</td><td>0.0</td><td>0.0</td></tr><tr><td>&quot;20%&quot;</td><td>-1.0</td><td>-1.0</td><td>-1.0</td><td>null</td><td>null</td></tr><tr><td>&quot;40%&quot;</td><td>-1.0</td><td>-1.0</td><td>-1.0</td><td>null</td><td>null</td></tr><tr><td>&quot;60%&quot;</td><td>1.0</td><td>1.0</td><td>1.0</td><td>null</td><td>null</td></tr><tr><td>&quot;80%&quot;</td><td>1.0</td><td>1.0</td><td>1.0</td><td>null</td><td>null</td></tr><tr><td>&quot;max&quot;</td><td>1.0</td><td>1.0</td><td>1.0</td><td>1.0</td><td>1.0</td></tr></tbody></table></div>"
      ],
      "text/plain": [
       "shape: (10, 6)\n",
       "┌────────────┬─────────────────┬────────────────┬────────────────┬────────────────┬────────────────┐\n",
       "│ statistic  ┆ macd_cross_sign ┆ high_rsi_signa ┆ low_rsi_signal ┆ middle_rsi_sig ┆ middle_macd_si │\n",
       "│ ---        ┆ al              ┆ l              ┆ ---            ┆ nal            ┆ gnal           │\n",
       "│ str        ┆ ---             ┆ ---            ┆ f64            ┆ ---            ┆ ---            │\n",
       "│            ┆ f64             ┆ f64            ┆                ┆ f64            ┆ f64            │\n",
       "╞════════════╪═════════════════╪════════════════╪════════════════╪════════════════╪════════════════╡\n",
       "│ count      ┆ 55371.0         ┆ 176485.0       ┆ 175342.0       ┆ 3.017561e6     ┆ 3.0176e6       │\n",
       "│ null_count ┆ 2.962229e6      ┆ 2.841115e6     ┆ 2.842258e6     ┆ 39.0           ┆ 0.0            │\n",
       "│ mean       ┆ 0.000018        ┆ 0.000006       ┆ 0.0            ┆ 0.208322       ┆ 0.194514       │\n",
       "│ std        ┆ 1.000009        ┆ 1.000003       ┆ 1.000003       ┆ null           ┆ null           │\n",
       "│ min        ┆ -1.0            ┆ -1.0           ┆ -1.0           ┆ 0.0            ┆ 0.0            │\n",
       "│ 20%        ┆ -1.0            ┆ -1.0           ┆ -1.0           ┆ null           ┆ null           │\n",
       "│ 40%        ┆ -1.0            ┆ -1.0           ┆ -1.0           ┆ null           ┆ null           │\n",
       "│ 60%        ┆ 1.0             ┆ 1.0            ┆ 1.0            ┆ null           ┆ null           │\n",
       "│ 80%        ┆ 1.0             ┆ 1.0            ┆ 1.0            ┆ null           ┆ null           │\n",
       "│ max        ┆ 1.0             ┆ 1.0            ┆ 1.0            ┆ 1.0            ┆ 1.0            │\n",
       "└────────────┴─────────────────┴────────────────┴────────────────┴────────────────┴────────────────┘"
      ]
     },
     "execution_count": 21,
     "metadata": {},
     "output_type": "execute_result"
    }
   ],
   "source": [
    "df = calc_crossover(df, 'ema_fast', 'ema_slow', 'macd_cross_signal')\n",
    "df = calc_crossover(df, 'RSI', 58.0, 'high_rsi_signal')\n",
    "df = calc_crossover(df, 'RSI', 43.0, 'low_rsi_signal')\n",
    "df = df.with_columns(pl.col(\"RSI\").is_between(48, 53).alias(\"middle_rsi_signal\"))\n",
    "df = df.with_columns(pl.col(\"MACD\").is_between(-0.086628, 0.175061).alias(\"middle_macd_signal\"))\n",
    "df.select(pl.col('macd_cross_signal'), pl.col('high_rsi_signal'), pl.col('low_rsi_signal'), pl.col(\"middle_rsi_signal\"), pl.col(\"middle_macd_signal\")).describe([.2,.4,.6,.8])"
   ]
  },
  {
   "cell_type": "code",
   "execution_count": 28,
   "metadata": {},
   "outputs": [],
   "source": [
    "df = df.with_columns([\n",
    "    pl.when(pl.col(\"macd_cross_signal\") == 1)\n",
    "      .then(pl.col(\"ts_event\"))\n",
    "      .otherwise(None)\n",
    "      .alias(\"macd_long_entry_ts\"),\n",
    "    \n",
    "    pl.when(pl.col(\"low_rsi_signal\") == 1)\n",
    "      .then(pl.col(\"ts_event\"))\n",
    "      .otherwise(None)\n",
    "      .alias(\"rsi_long_entry_ts\"),\n",
    "\n",
    "    pl.when(pl.col(\"high_rsi_signal\") == 1)\n",
    "      .then(pl.col(\"ts_event\"))\n",
    "      .otherwise(None)\n",
    "      .alias(\"rsi_long_exit_ts\"),\n",
    "    \n",
    "    pl.when(pl.col(\"macd_cross_signal\") == -1)\n",
    "      .then(pl.col(\"ts_event\"))\n",
    "      .otherwise(None)\n",
    "      .alias(\"macd_short_entry_ts\"),\n",
    "    \n",
    "    pl.when(pl.col(\"high_rsi_signal\") == -1)\n",
    "      .then(pl.col(\"ts_event\"))\n",
    "      .otherwise(None)\n",
    "      .alias(\"rsi_short_entry_ts\"),\n",
    "\n",
    "    pl.when(pl.col(\"low_rsi_signal\") == -1)\n",
    "      .then(pl.col(\"ts_event\"))\n",
    "      .otherwise(None)\n",
    "      .alias(\"rsi_short_exit_ts\"),\n",
    "\n",
    "    pl.when(pl.col(\"middle_rsi_signal\") == True)\n",
    "      .then(pl.col(\"ts_event\"))\n",
    "      .otherwise(None)\n",
    "      .alias(\"mid_rsi_ts\"),\n",
    "\n",
    "    pl.when(pl.col(\"middle_macd_signal\") == True)\n",
    "      .then(pl.col(\"ts_event\"))\n",
    "      .otherwise(None)\n",
    "      .alias(\"mid_macd_ts\"),\n",
    "])"
   ]
  },
  {
   "cell_type": "code",
   "execution_count": 29,
   "metadata": {},
   "outputs": [],
   "source": [
    "df = df.with_columns([\n",
    "    pl.col(\"macd_long_entry_ts\").forward_fill(),\n",
    "    pl.col(\"rsi_long_entry_ts\").forward_fill(),\n",
    "    pl.col(\"macd_short_entry_ts\").forward_fill(),\n",
    "    pl.col(\"rsi_short_entry_ts\").forward_fill(),\n",
    "    pl.col(\"mid_rsi_ts\").forward_fill(),\n",
    "    pl.col(\"mid_macd_ts\").forward_fill(),\n",
    "    pl.col(\"rsi_short_exit_ts\").forward_fill(),\n",
    "    pl.col(\"rsi_long_exit_ts\").forward_fill(),\n",
    "])"
   ]
  },
  {
   "cell_type": "code",
   "execution_count": 30,
   "metadata": {},
   "outputs": [
    {
     "data": {
      "text/html": [
       "<div><style>\n",
       ".dataframe > thead > tr,\n",
       ".dataframe > tbody > tr {\n",
       "  text-align: right;\n",
       "  white-space: pre-wrap;\n",
       "}\n",
       "</style>\n",
       "<small>shape: (3_017_600, 35)</small><table border=\"1\" class=\"dataframe\"><thead><tr><th>ts_event</th><th>rtype</th><th>publisher_id</th><th>instrument_id</th><th>open</th><th>high</th><th>low</th><th>close</th><th>volume</th><th>symbol</th><th>ema_fast</th><th>ema_slow</th><th>MACD</th><th>macd_signal</th><th>delta</th><th>gain</th><th>loss</th><th>avg_gain</th><th>avg_loss</th><th>RS</th><th>RSI</th><th>macd_cross_signal</th><th>high_rsi_signal</th><th>low_rsi_signal</th><th>middle_rsi_signal</th><th>middle_macd_signal</th><th>macd_long_entry_ts</th><th>rsi_long_entryts</th><th>macd_short_entry_ts</th><th>rsi_short_entry_ts</th><th>mid_rsi_ts</th><th>mid_macd_ts</th><th>rsi_long_entry_ts</th><th>rsi_long_exit_ts</th><th>rsi_short_exit_ts</th></tr><tr><td>datetime[ns, UTC]</td><td>u8</td><td>u16</td><td>u32</td><td>f64</td><td>f64</td><td>f64</td><td>f64</td><td>u64</td><td>str</td><td>f64</td><td>f64</td><td>f64</td><td>f64</td><td>f64</td><td>f64</td><td>f64</td><td>f64</td><td>f64</td><td>f64</td><td>f64</td><td>i32</td><td>i32</td><td>i32</td><td>bool</td><td>bool</td><td>datetime[ns, UTC]</td><td>datetime[ns, UTC]</td><td>datetime[ns, UTC]</td><td>datetime[ns, UTC]</td><td>datetime[ns, UTC]</td><td>datetime[ns, UTC]</td><td>datetime[ns, UTC]</td><td>datetime[ns, UTC]</td><td>datetime[ns, UTC]</td></tr></thead><tbody><tr><td>2016-06-01 00:00:00 UTC</td><td>33</td><td>1</td><td>6505</td><td>2095.0</td><td>2095.5</td><td>2095.0</td><td>2095.25</td><td>118</td><td>&quot;ES.v.0&quot;</td><td>2095.25</td><td>2095.25</td><td>0.0</td><td>0.0</td><td>null</td><td>0.0</td><td>0.0</td><td>null</td><td>null</td><td>null</td><td>null</td><td>null</td><td>null</td><td>null</td><td>null</td><td>true</td><td>null</td><td>null</td><td>null</td><td>null</td><td>null</td><td>2016-06-01 00:00:00 UTC</td><td>null</td><td>null</td><td>null</td></tr><tr><td>2016-06-01 00:01:00 UTC</td><td>33</td><td>1</td><td>6505</td><td>2095.25</td><td>2095.25</td><td>2095.0</td><td>2095.25</td><td>34</td><td>&quot;ES.v.0&quot;</td><td>2095.25</td><td>2095.25</td><td>0.0</td><td>0.0</td><td>0.0</td><td>0.0</td><td>0.0</td><td>null</td><td>null</td><td>null</td><td>null</td><td>null</td><td>null</td><td>null</td><td>null</td><td>true</td><td>null</td><td>null</td><td>null</td><td>null</td><td>null</td><td>2016-06-01 00:01:00 UTC</td><td>null</td><td>null</td><td>null</td></tr><tr><td>2016-06-01 00:02:00 UTC</td><td>33</td><td>1</td><td>6505</td><td>2095.25</td><td>2095.5</td><td>2095.25</td><td>2095.25</td><td>109</td><td>&quot;ES.v.0&quot;</td><td>2095.25</td><td>2095.25</td><td>0.0</td><td>0.0</td><td>0.0</td><td>0.0</td><td>0.0</td><td>null</td><td>null</td><td>null</td><td>null</td><td>null</td><td>null</td><td>null</td><td>null</td><td>true</td><td>null</td><td>null</td><td>null</td><td>null</td><td>null</td><td>2016-06-01 00:02:00 UTC</td><td>null</td><td>null</td><td>null</td></tr><tr><td>2016-06-01 00:03:00 UTC</td><td>33</td><td>1</td><td>6505</td><td>2095.5</td><td>2095.5</td><td>2095.0</td><td>2095.0</td><td>56</td><td>&quot;ES.v.0&quot;</td><td>2095.179808</td><td>2095.183701</td><td>-0.003893</td><td>-0.001229</td><td>-0.25</td><td>0.0</td><td>0.25</td><td>null</td><td>null</td><td>null</td><td>null</td><td>null</td><td>null</td><td>null</td><td>null</td><td>true</td><td>null</td><td>null</td><td>null</td><td>null</td><td>null</td><td>2016-06-01 00:03:00 UTC</td><td>null</td><td>null</td><td>null</td></tr><tr><td>2016-06-01 00:04:00 UTC</td><td>33</td><td>1</td><td>6505</td><td>2095.0</td><td>2095.5</td><td>2095.0</td><td>2095.25</td><td>66</td><td>&quot;ES.v.0&quot;</td><td>2095.196179</td><td>2095.198042</td><td>-0.001864</td><td>-0.001401</td><td>0.25</td><td>0.25</td><td>0.0</td><td>null</td><td>null</td><td>null</td><td>null</td><td>null</td><td>null</td><td>null</td><td>null</td><td>true</td><td>null</td><td>null</td><td>null</td><td>null</td><td>null</td><td>2016-06-01 00:04:00 UTC</td><td>null</td><td>null</td><td>null</td></tr><tr><td>&hellip;</td><td>&hellip;</td><td>&hellip;</td><td>&hellip;</td><td>&hellip;</td><td>&hellip;</td><td>&hellip;</td><td>&hellip;</td><td>&hellip;</td><td>&hellip;</td><td>&hellip;</td><td>&hellip;</td><td>&hellip;</td><td>&hellip;</td><td>&hellip;</td><td>&hellip;</td><td>&hellip;</td><td>&hellip;</td><td>&hellip;</td><td>&hellip;</td><td>&hellip;</td><td>&hellip;</td><td>&hellip;</td><td>&hellip;</td><td>&hellip;</td><td>&hellip;</td><td>&hellip;</td><td>&hellip;</td><td>&hellip;</td><td>&hellip;</td><td>&hellip;</td><td>&hellip;</td><td>&hellip;</td><td>&hellip;</td><td>&hellip;</td></tr><tr><td>2025-01-07 23:55:00 UTC</td><td>33</td><td>1</td><td>5002</td><td>5956.5</td><td>5957.0</td><td>5956.25</td><td>5956.75</td><td>65</td><td>&quot;ES.v.0&quot;</td><td>5954.874011</td><td>5954.429028</td><td>0.444983</td><td>0.274852</td><td>0.25</td><td>0.25</td><td>0.0</td><td>0.29375</td><td>0.14375</td><td>2.043478</td><td>67.142857</td><td>null</td><td>null</td><td>null</td><td>false</td><td>false</td><td>2025-01-07 23:36:00 UTC</td><td>2025-01-07 23:24:00 UTC</td><td>2025-01-07 21:55:00 UTC</td><td>2025-01-07 21:36:00 UTC</td><td>2025-01-07 23:44:00 UTC</td><td>2025-01-07 23:49:00 UTC</td><td>2025-01-07 23:24:00 UTC</td><td>2025-01-07 23:47:00 UTC</td><td>2025-01-07 23:23:00 UTC</td></tr><tr><td>2025-01-07 23:56:00 UTC</td><td>33</td><td>1</td><td>5002</td><td>5956.75</td><td>5957.0</td><td>5956.75</td><td>5957.0</td><td>52</td><td>&quot;ES.v.0&quot;</td><td>5955.037549</td><td>5954.52985</td><td>0.507698</td><td>0.310675</td><td>0.25</td><td>0.25</td><td>0.0</td><td>0.275</td><td>0.14375</td><td>1.913043</td><td>65.671642</td><td>null</td><td>null</td><td>null</td><td>false</td><td>false</td><td>2025-01-07 23:36:00 UTC</td><td>2025-01-07 23:24:00 UTC</td><td>2025-01-07 21:55:00 UTC</td><td>2025-01-07 21:36:00 UTC</td><td>2025-01-07 23:44:00 UTC</td><td>2025-01-07 23:49:00 UTC</td><td>2025-01-07 23:24:00 UTC</td><td>2025-01-07 23:47:00 UTC</td><td>2025-01-07 23:23:00 UTC</td></tr><tr><td>2025-01-07 23:57:00 UTC</td><td>33</td><td>1</td><td>5002</td><td>5957.0</td><td>5958.0</td><td>5957.0</td><td>5958.0</td><td>159</td><td>&quot;ES.v.0&quot;</td><td>5955.26543</td><td>5954.665935</td><td>0.599495</td><td>0.355109</td><td>1.0</td><td>1.0</td><td>0.0</td><td>0.275</td><td>0.14375</td><td>1.913043</td><td>65.671642</td><td>null</td><td>null</td><td>null</td><td>false</td><td>false</td><td>2025-01-07 23:36:00 UTC</td><td>2025-01-07 23:24:00 UTC</td><td>2025-01-07 21:55:00 UTC</td><td>2025-01-07 21:36:00 UTC</td><td>2025-01-07 23:44:00 UTC</td><td>2025-01-07 23:49:00 UTC</td><td>2025-01-07 23:24:00 UTC</td><td>2025-01-07 23:47:00 UTC</td><td>2025-01-07 23:23:00 UTC</td></tr><tr><td>2025-01-07 23:58:00 UTC</td><td>33</td><td>1</td><td>5002</td><td>5957.75</td><td>5958.5</td><td>5957.75</td><td>5958.25</td><td>140</td><td>&quot;ES.v.0&quot;</td><td>5955.495012</td><td>5954.806486</td><td>0.688526</td><td>0.406403</td><td>0.25</td><td>0.25</td><td>0.0</td><td>0.28125</td><td>0.14375</td><td>1.956522</td><td>66.176471</td><td>null</td><td>null</td><td>null</td><td>false</td><td>false</td><td>2025-01-07 23:36:00 UTC</td><td>2025-01-07 23:24:00 UTC</td><td>2025-01-07 21:55:00 UTC</td><td>2025-01-07 21:36:00 UTC</td><td>2025-01-07 23:44:00 UTC</td><td>2025-01-07 23:49:00 UTC</td><td>2025-01-07 23:24:00 UTC</td><td>2025-01-07 23:47:00 UTC</td><td>2025-01-07 23:23:00 UTC</td></tr><tr><td>2025-01-07 23:59:00 UTC</td><td>33</td><td>1</td><td>5002</td><td>5958.25</td><td>5958.75</td><td>5957.75</td><td>5958.25</td><td>530</td><td>&quot;ES.v.0&quot;</td><td>5955.706934</td><td>5954.941526</td><td>0.765408</td><td>0.461635</td><td>0.0</td><td>0.0</td><td>0.0</td><td>0.26875</td><td>0.14375</td><td>1.869565</td><td>65.151515</td><td>null</td><td>null</td><td>null</td><td>false</td><td>false</td><td>2025-01-07 23:36:00 UTC</td><td>2025-01-07 23:24:00 UTC</td><td>2025-01-07 21:55:00 UTC</td><td>2025-01-07 21:36:00 UTC</td><td>2025-01-07 23:44:00 UTC</td><td>2025-01-07 23:49:00 UTC</td><td>2025-01-07 23:24:00 UTC</td><td>2025-01-07 23:47:00 UTC</td><td>2025-01-07 23:23:00 UTC</td></tr></tbody></table></div>"
      ],
      "text/plain": [
       "shape: (3_017_600, 35)\n",
       "┌────────────┬───────┬────────────┬────────────┬───┬───────────┬───────────┬───────────┬───────────┐\n",
       "│ ts_event   ┆ rtype ┆ publisher_ ┆ instrument ┆ … ┆ mid_macd_ ┆ rsi_long_ ┆ rsi_long_ ┆ rsi_short │\n",
       "│ ---        ┆ ---   ┆ id         ┆ _id        ┆   ┆ ts        ┆ entry_ts  ┆ exit_ts   ┆ _exit_ts  │\n",
       "│ datetime[n ┆ u8    ┆ ---        ┆ ---        ┆   ┆ ---       ┆ ---       ┆ ---       ┆ ---       │\n",
       "│ s, UTC]    ┆       ┆ u16        ┆ u32        ┆   ┆ datetime[ ┆ datetime[ ┆ datetime[ ┆ datetime[ │\n",
       "│            ┆       ┆            ┆            ┆   ┆ ns, UTC]  ┆ ns, UTC]  ┆ ns, UTC]  ┆ ns, UTC]  │\n",
       "╞════════════╪═══════╪════════════╪════════════╪═══╪═══════════╪═══════════╪═══════════╪═══════════╡\n",
       "│ 2016-06-01 ┆ 33    ┆ 1          ┆ 6505       ┆ … ┆ 2016-06-0 ┆ null      ┆ null      ┆ null      │\n",
       "│ 00:00:00   ┆       ┆            ┆            ┆   ┆ 1         ┆           ┆           ┆           │\n",
       "│ UTC        ┆       ┆            ┆            ┆   ┆ 00:00:00  ┆           ┆           ┆           │\n",
       "│            ┆       ┆            ┆            ┆   ┆ UTC       ┆           ┆           ┆           │\n",
       "│ 2016-06-01 ┆ 33    ┆ 1          ┆ 6505       ┆ … ┆ 2016-06-0 ┆ null      ┆ null      ┆ null      │\n",
       "│ 00:01:00   ┆       ┆            ┆            ┆   ┆ 1         ┆           ┆           ┆           │\n",
       "│ UTC        ┆       ┆            ┆            ┆   ┆ 00:01:00  ┆           ┆           ┆           │\n",
       "│            ┆       ┆            ┆            ┆   ┆ UTC       ┆           ┆           ┆           │\n",
       "│ 2016-06-01 ┆ 33    ┆ 1          ┆ 6505       ┆ … ┆ 2016-06-0 ┆ null      ┆ null      ┆ null      │\n",
       "│ 00:02:00   ┆       ┆            ┆            ┆   ┆ 1         ┆           ┆           ┆           │\n",
       "│ UTC        ┆       ┆            ┆            ┆   ┆ 00:02:00  ┆           ┆           ┆           │\n",
       "│            ┆       ┆            ┆            ┆   ┆ UTC       ┆           ┆           ┆           │\n",
       "│ 2016-06-01 ┆ 33    ┆ 1          ┆ 6505       ┆ … ┆ 2016-06-0 ┆ null      ┆ null      ┆ null      │\n",
       "│ 00:03:00   ┆       ┆            ┆            ┆   ┆ 1         ┆           ┆           ┆           │\n",
       "│ UTC        ┆       ┆            ┆            ┆   ┆ 00:03:00  ┆           ┆           ┆           │\n",
       "│            ┆       ┆            ┆            ┆   ┆ UTC       ┆           ┆           ┆           │\n",
       "│ 2016-06-01 ┆ 33    ┆ 1          ┆ 6505       ┆ … ┆ 2016-06-0 ┆ null      ┆ null      ┆ null      │\n",
       "│ 00:04:00   ┆       ┆            ┆            ┆   ┆ 1         ┆           ┆           ┆           │\n",
       "│ UTC        ┆       ┆            ┆            ┆   ┆ 00:04:00  ┆           ┆           ┆           │\n",
       "│            ┆       ┆            ┆            ┆   ┆ UTC       ┆           ┆           ┆           │\n",
       "│ …          ┆ …     ┆ …          ┆ …          ┆ … ┆ …         ┆ …         ┆ …         ┆ …         │\n",
       "│ 2025-01-07 ┆ 33    ┆ 1          ┆ 5002       ┆ … ┆ 2025-01-0 ┆ 2025-01-0 ┆ 2025-01-0 ┆ 2025-01-0 │\n",
       "│ 23:55:00   ┆       ┆            ┆            ┆   ┆ 7         ┆ 7         ┆ 7         ┆ 7         │\n",
       "│ UTC        ┆       ┆            ┆            ┆   ┆ 23:49:00  ┆ 23:24:00  ┆ 23:47:00  ┆ 23:23:00  │\n",
       "│            ┆       ┆            ┆            ┆   ┆ UTC       ┆ UTC       ┆ UTC       ┆ UTC       │\n",
       "│ 2025-01-07 ┆ 33    ┆ 1          ┆ 5002       ┆ … ┆ 2025-01-0 ┆ 2025-01-0 ┆ 2025-01-0 ┆ 2025-01-0 │\n",
       "│ 23:56:00   ┆       ┆            ┆            ┆   ┆ 7         ┆ 7         ┆ 7         ┆ 7         │\n",
       "│ UTC        ┆       ┆            ┆            ┆   ┆ 23:49:00  ┆ 23:24:00  ┆ 23:47:00  ┆ 23:23:00  │\n",
       "│            ┆       ┆            ┆            ┆   ┆ UTC       ┆ UTC       ┆ UTC       ┆ UTC       │\n",
       "│ 2025-01-07 ┆ 33    ┆ 1          ┆ 5002       ┆ … ┆ 2025-01-0 ┆ 2025-01-0 ┆ 2025-01-0 ┆ 2025-01-0 │\n",
       "│ 23:57:00   ┆       ┆            ┆            ┆   ┆ 7         ┆ 7         ┆ 7         ┆ 7         │\n",
       "│ UTC        ┆       ┆            ┆            ┆   ┆ 23:49:00  ┆ 23:24:00  ┆ 23:47:00  ┆ 23:23:00  │\n",
       "│            ┆       ┆            ┆            ┆   ┆ UTC       ┆ UTC       ┆ UTC       ┆ UTC       │\n",
       "│ 2025-01-07 ┆ 33    ┆ 1          ┆ 5002       ┆ … ┆ 2025-01-0 ┆ 2025-01-0 ┆ 2025-01-0 ┆ 2025-01-0 │\n",
       "│ 23:58:00   ┆       ┆            ┆            ┆   ┆ 7         ┆ 7         ┆ 7         ┆ 7         │\n",
       "│ UTC        ┆       ┆            ┆            ┆   ┆ 23:49:00  ┆ 23:24:00  ┆ 23:47:00  ┆ 23:23:00  │\n",
       "│            ┆       ┆            ┆            ┆   ┆ UTC       ┆ UTC       ┆ UTC       ┆ UTC       │\n",
       "│ 2025-01-07 ┆ 33    ┆ 1          ┆ 5002       ┆ … ┆ 2025-01-0 ┆ 2025-01-0 ┆ 2025-01-0 ┆ 2025-01-0 │\n",
       "│ 23:59:00   ┆       ┆            ┆            ┆   ┆ 7         ┆ 7         ┆ 7         ┆ 7         │\n",
       "│ UTC        ┆       ┆            ┆            ┆   ┆ 23:49:00  ┆ 23:24:00  ┆ 23:47:00  ┆ 23:23:00  │\n",
       "│            ┆       ┆            ┆            ┆   ┆ UTC       ┆ UTC       ┆ UTC       ┆ UTC       │\n",
       "└────────────┴───────┴────────────┴────────────┴───┴───────────┴───────────┴───────────┴───────────┘"
      ]
     },
     "execution_count": 30,
     "metadata": {},
     "output_type": "execute_result"
    }
   ],
   "source": [
    "df"
   ]
  },
  {
   "cell_type": "code",
   "execution_count": 33,
   "metadata": {},
   "outputs": [
    {
     "data": {
      "text/html": [
       "<div><style>\n",
       ".dataframe > thead > tr,\n",
       ".dataframe > tbody > tr {\n",
       "  text-align: right;\n",
       "  white-space: pre-wrap;\n",
       "}\n",
       "</style>\n",
       "<small>shape: (3_017_600, 47)</small><table border=\"1\" class=\"dataframe\"><thead><tr><th>ts_event</th><th>rtype</th><th>publisher_id</th><th>instrument_id</th><th>open</th><th>high</th><th>low</th><th>close</th><th>volume</th><th>symbol</th><th>ema_fast</th><th>ema_slow</th><th>MACD</th><th>macd_signal</th><th>delta</th><th>gain</th><th>loss</th><th>avg_gain</th><th>avg_loss</th><th>RS</th><th>RSI</th><th>macd_cross_signal</th><th>high_rsi_signal</th><th>low_rsi_signal</th><th>middle_rsi_signal</th><th>middle_macd_signal</th><th>macd_long_entry_ts</th><th>rsi_long_entryts</th><th>macd_short_entry_ts</th><th>rsi_short_entry_ts</th><th>mid_rsi_ts</th><th>mid_macd_ts</th><th>rsi_long_entry_ts</th><th>rsi_long_exit_ts</th><th>rsi_short_exit_ts</th><th>macd_long_entry_valid</th><th>rsi_long_entry_valid</th><th>rsi_long_exit_valid</th><th>macd_long_exit_valid</th><th>macd_short_entry_valid</th><th>rsi_short_entry_valid</th><th>rsi_short_exit_valid</th><th>macd_short_exit_valid</th><th>long_entry_signal</th><th>long_exit_signal</th><th>short_entry_signal</th><th>short_exit_signal</th></tr><tr><td>datetime[ns, UTC]</td><td>u8</td><td>u16</td><td>u32</td><td>f64</td><td>f64</td><td>f64</td><td>f64</td><td>u64</td><td>str</td><td>f64</td><td>f64</td><td>f64</td><td>f64</td><td>f64</td><td>f64</td><td>f64</td><td>f64</td><td>f64</td><td>f64</td><td>f64</td><td>i32</td><td>i32</td><td>i32</td><td>bool</td><td>bool</td><td>datetime[ns, UTC]</td><td>datetime[ns, UTC]</td><td>datetime[ns, UTC]</td><td>datetime[ns, UTC]</td><td>datetime[ns, UTC]</td><td>datetime[ns, UTC]</td><td>datetime[ns, UTC]</td><td>datetime[ns, UTC]</td><td>datetime[ns, UTC]</td><td>bool</td><td>bool</td><td>bool</td><td>bool</td><td>bool</td><td>bool</td><td>bool</td><td>bool</td><td>bool</td><td>bool</td><td>bool</td><td>bool</td></tr></thead><tbody><tr><td>2016-06-01 00:00:00 UTC</td><td>33</td><td>1</td><td>6505</td><td>2095.0</td><td>2095.5</td><td>2095.0</td><td>2095.25</td><td>118</td><td>&quot;ES.v.0&quot;</td><td>2095.25</td><td>2095.25</td><td>0.0</td><td>0.0</td><td>null</td><td>0.0</td><td>0.0</td><td>null</td><td>null</td><td>null</td><td>null</td><td>null</td><td>null</td><td>null</td><td>null</td><td>true</td><td>null</td><td>null</td><td>null</td><td>null</td><td>null</td><td>2016-06-01 00:00:00 UTC</td><td>null</td><td>null</td><td>null</td><td>null</td><td>null</td><td>null</td><td>true</td><td>null</td><td>null</td><td>null</td><td>true</td><td>null</td><td>null</td><td>null</td><td>null</td></tr><tr><td>2016-06-01 00:01:00 UTC</td><td>33</td><td>1</td><td>6505</td><td>2095.25</td><td>2095.25</td><td>2095.0</td><td>2095.25</td><td>34</td><td>&quot;ES.v.0&quot;</td><td>2095.25</td><td>2095.25</td><td>0.0</td><td>0.0</td><td>0.0</td><td>0.0</td><td>0.0</td><td>null</td><td>null</td><td>null</td><td>null</td><td>null</td><td>null</td><td>null</td><td>null</td><td>true</td><td>null</td><td>null</td><td>null</td><td>null</td><td>null</td><td>2016-06-01 00:01:00 UTC</td><td>null</td><td>null</td><td>null</td><td>null</td><td>null</td><td>null</td><td>true</td><td>null</td><td>null</td><td>null</td><td>true</td><td>null</td><td>null</td><td>null</td><td>null</td></tr><tr><td>2016-06-01 00:02:00 UTC</td><td>33</td><td>1</td><td>6505</td><td>2095.25</td><td>2095.5</td><td>2095.25</td><td>2095.25</td><td>109</td><td>&quot;ES.v.0&quot;</td><td>2095.25</td><td>2095.25</td><td>0.0</td><td>0.0</td><td>0.0</td><td>0.0</td><td>0.0</td><td>null</td><td>null</td><td>null</td><td>null</td><td>null</td><td>null</td><td>null</td><td>null</td><td>true</td><td>null</td><td>null</td><td>null</td><td>null</td><td>null</td><td>2016-06-01 00:02:00 UTC</td><td>null</td><td>null</td><td>null</td><td>null</td><td>null</td><td>null</td><td>true</td><td>null</td><td>null</td><td>null</td><td>true</td><td>null</td><td>null</td><td>null</td><td>null</td></tr><tr><td>2016-06-01 00:03:00 UTC</td><td>33</td><td>1</td><td>6505</td><td>2095.5</td><td>2095.5</td><td>2095.0</td><td>2095.0</td><td>56</td><td>&quot;ES.v.0&quot;</td><td>2095.179808</td><td>2095.183701</td><td>-0.003893</td><td>-0.001229</td><td>-0.25</td><td>0.0</td><td>0.25</td><td>null</td><td>null</td><td>null</td><td>null</td><td>null</td><td>null</td><td>null</td><td>null</td><td>true</td><td>null</td><td>null</td><td>null</td><td>null</td><td>null</td><td>2016-06-01 00:03:00 UTC</td><td>null</td><td>null</td><td>null</td><td>null</td><td>null</td><td>null</td><td>true</td><td>null</td><td>null</td><td>null</td><td>true</td><td>null</td><td>null</td><td>null</td><td>null</td></tr><tr><td>2016-06-01 00:04:00 UTC</td><td>33</td><td>1</td><td>6505</td><td>2095.0</td><td>2095.5</td><td>2095.0</td><td>2095.25</td><td>66</td><td>&quot;ES.v.0&quot;</td><td>2095.196179</td><td>2095.198042</td><td>-0.001864</td><td>-0.001401</td><td>0.25</td><td>0.25</td><td>0.0</td><td>null</td><td>null</td><td>null</td><td>null</td><td>null</td><td>null</td><td>null</td><td>null</td><td>true</td><td>null</td><td>null</td><td>null</td><td>null</td><td>null</td><td>2016-06-01 00:04:00 UTC</td><td>null</td><td>null</td><td>null</td><td>null</td><td>null</td><td>null</td><td>true</td><td>null</td><td>null</td><td>null</td><td>true</td><td>null</td><td>null</td><td>null</td><td>null</td></tr><tr><td>&hellip;</td><td>&hellip;</td><td>&hellip;</td><td>&hellip;</td><td>&hellip;</td><td>&hellip;</td><td>&hellip;</td><td>&hellip;</td><td>&hellip;</td><td>&hellip;</td><td>&hellip;</td><td>&hellip;</td><td>&hellip;</td><td>&hellip;</td><td>&hellip;</td><td>&hellip;</td><td>&hellip;</td><td>&hellip;</td><td>&hellip;</td><td>&hellip;</td><td>&hellip;</td><td>&hellip;</td><td>&hellip;</td><td>&hellip;</td><td>&hellip;</td><td>&hellip;</td><td>&hellip;</td><td>&hellip;</td><td>&hellip;</td><td>&hellip;</td><td>&hellip;</td><td>&hellip;</td><td>&hellip;</td><td>&hellip;</td><td>&hellip;</td><td>&hellip;</td><td>&hellip;</td><td>&hellip;</td><td>&hellip;</td><td>&hellip;</td><td>&hellip;</td><td>&hellip;</td><td>&hellip;</td><td>&hellip;</td><td>&hellip;</td><td>&hellip;</td><td>&hellip;</td></tr><tr><td>2025-01-07 23:55:00 UTC</td><td>33</td><td>1</td><td>5002</td><td>5956.5</td><td>5957.0</td><td>5956.25</td><td>5956.75</td><td>65</td><td>&quot;ES.v.0&quot;</td><td>5954.874011</td><td>5954.429028</td><td>0.444983</td><td>0.274852</td><td>0.25</td><td>0.25</td><td>0.0</td><td>0.29375</td><td>0.14375</td><td>2.043478</td><td>67.142857</td><td>null</td><td>null</td><td>null</td><td>false</td><td>false</td><td>2025-01-07 23:36:00 UTC</td><td>2025-01-07 23:24:00 UTC</td><td>2025-01-07 21:55:00 UTC</td><td>2025-01-07 21:36:00 UTC</td><td>2025-01-07 23:44:00 UTC</td><td>2025-01-07 23:49:00 UTC</td><td>2025-01-07 23:24:00 UTC</td><td>2025-01-07 23:47:00 UTC</td><td>2025-01-07 23:23:00 UTC</td><td>false</td><td>false</td><td>true</td><td>true</td><td>false</td><td>false</td><td>false</td><td>true</td><td>false</td><td>true</td><td>false</td><td>false</td></tr><tr><td>2025-01-07 23:56:00 UTC</td><td>33</td><td>1</td><td>5002</td><td>5956.75</td><td>5957.0</td><td>5956.75</td><td>5957.0</td><td>52</td><td>&quot;ES.v.0&quot;</td><td>5955.037549</td><td>5954.52985</td><td>0.507698</td><td>0.310675</td><td>0.25</td><td>0.25</td><td>0.0</td><td>0.275</td><td>0.14375</td><td>1.913043</td><td>65.671642</td><td>null</td><td>null</td><td>null</td><td>false</td><td>false</td><td>2025-01-07 23:36:00 UTC</td><td>2025-01-07 23:24:00 UTC</td><td>2025-01-07 21:55:00 UTC</td><td>2025-01-07 21:36:00 UTC</td><td>2025-01-07 23:44:00 UTC</td><td>2025-01-07 23:49:00 UTC</td><td>2025-01-07 23:24:00 UTC</td><td>2025-01-07 23:47:00 UTC</td><td>2025-01-07 23:23:00 UTC</td><td>false</td><td>false</td><td>true</td><td>true</td><td>false</td><td>false</td><td>false</td><td>true</td><td>false</td><td>true</td><td>false</td><td>false</td></tr><tr><td>2025-01-07 23:57:00 UTC</td><td>33</td><td>1</td><td>5002</td><td>5957.0</td><td>5958.0</td><td>5957.0</td><td>5958.0</td><td>159</td><td>&quot;ES.v.0&quot;</td><td>5955.26543</td><td>5954.665935</td><td>0.599495</td><td>0.355109</td><td>1.0</td><td>1.0</td><td>0.0</td><td>0.275</td><td>0.14375</td><td>1.913043</td><td>65.671642</td><td>null</td><td>null</td><td>null</td><td>false</td><td>false</td><td>2025-01-07 23:36:00 UTC</td><td>2025-01-07 23:24:00 UTC</td><td>2025-01-07 21:55:00 UTC</td><td>2025-01-07 21:36:00 UTC</td><td>2025-01-07 23:44:00 UTC</td><td>2025-01-07 23:49:00 UTC</td><td>2025-01-07 23:24:00 UTC</td><td>2025-01-07 23:47:00 UTC</td><td>2025-01-07 23:23:00 UTC</td><td>false</td><td>false</td><td>true</td><td>true</td><td>false</td><td>false</td><td>false</td><td>true</td><td>false</td><td>true</td><td>false</td><td>false</td></tr><tr><td>2025-01-07 23:58:00 UTC</td><td>33</td><td>1</td><td>5002</td><td>5957.75</td><td>5958.5</td><td>5957.75</td><td>5958.25</td><td>140</td><td>&quot;ES.v.0&quot;</td><td>5955.495012</td><td>5954.806486</td><td>0.688526</td><td>0.406403</td><td>0.25</td><td>0.25</td><td>0.0</td><td>0.28125</td><td>0.14375</td><td>1.956522</td><td>66.176471</td><td>null</td><td>null</td><td>null</td><td>false</td><td>false</td><td>2025-01-07 23:36:00 UTC</td><td>2025-01-07 23:24:00 UTC</td><td>2025-01-07 21:55:00 UTC</td><td>2025-01-07 21:36:00 UTC</td><td>2025-01-07 23:44:00 UTC</td><td>2025-01-07 23:49:00 UTC</td><td>2025-01-07 23:24:00 UTC</td><td>2025-01-07 23:47:00 UTC</td><td>2025-01-07 23:23:00 UTC</td><td>false</td><td>false</td><td>false</td><td>true</td><td>false</td><td>false</td><td>false</td><td>true</td><td>false</td><td>false</td><td>false</td><td>false</td></tr><tr><td>2025-01-07 23:59:00 UTC</td><td>33</td><td>1</td><td>5002</td><td>5958.25</td><td>5958.75</td><td>5957.75</td><td>5958.25</td><td>530</td><td>&quot;ES.v.0&quot;</td><td>5955.706934</td><td>5954.941526</td><td>0.765408</td><td>0.461635</td><td>0.0</td><td>0.0</td><td>0.0</td><td>0.26875</td><td>0.14375</td><td>1.869565</td><td>65.151515</td><td>null</td><td>null</td><td>null</td><td>false</td><td>false</td><td>2025-01-07 23:36:00 UTC</td><td>2025-01-07 23:24:00 UTC</td><td>2025-01-07 21:55:00 UTC</td><td>2025-01-07 21:36:00 UTC</td><td>2025-01-07 23:44:00 UTC</td><td>2025-01-07 23:49:00 UTC</td><td>2025-01-07 23:24:00 UTC</td><td>2025-01-07 23:47:00 UTC</td><td>2025-01-07 23:23:00 UTC</td><td>false</td><td>false</td><td>false</td><td>true</td><td>false</td><td>false</td><td>false</td><td>true</td><td>false</td><td>false</td><td>false</td><td>false</td></tr></tbody></table></div>"
      ],
      "text/plain": [
       "shape: (3_017_600, 47)\n",
       "┌────────────┬───────┬────────────┬────────────┬───┬───────────┬───────────┬───────────┬───────────┐\n",
       "│ ts_event   ┆ rtype ┆ publisher_ ┆ instrument ┆ … ┆ long_entr ┆ long_exit ┆ short_ent ┆ short_exi │\n",
       "│ ---        ┆ ---   ┆ id         ┆ _id        ┆   ┆ y_signal  ┆ _signal   ┆ ry_signal ┆ t_signal  │\n",
       "│ datetime[n ┆ u8    ┆ ---        ┆ ---        ┆   ┆ ---       ┆ ---       ┆ ---       ┆ ---       │\n",
       "│ s, UTC]    ┆       ┆ u16        ┆ u32        ┆   ┆ bool      ┆ bool      ┆ bool      ┆ bool      │\n",
       "╞════════════╪═══════╪════════════╪════════════╪═══╪═══════════╪═══════════╪═══════════╪═══════════╡\n",
       "│ 2016-06-01 ┆ 33    ┆ 1          ┆ 6505       ┆ … ┆ null      ┆ null      ┆ null      ┆ null      │\n",
       "│ 00:00:00   ┆       ┆            ┆            ┆   ┆           ┆           ┆           ┆           │\n",
       "│ UTC        ┆       ┆            ┆            ┆   ┆           ┆           ┆           ┆           │\n",
       "│ 2016-06-01 ┆ 33    ┆ 1          ┆ 6505       ┆ … ┆ null      ┆ null      ┆ null      ┆ null      │\n",
       "│ 00:01:00   ┆       ┆            ┆            ┆   ┆           ┆           ┆           ┆           │\n",
       "│ UTC        ┆       ┆            ┆            ┆   ┆           ┆           ┆           ┆           │\n",
       "│ 2016-06-01 ┆ 33    ┆ 1          ┆ 6505       ┆ … ┆ null      ┆ null      ┆ null      ┆ null      │\n",
       "│ 00:02:00   ┆       ┆            ┆            ┆   ┆           ┆           ┆           ┆           │\n",
       "│ UTC        ┆       ┆            ┆            ┆   ┆           ┆           ┆           ┆           │\n",
       "│ 2016-06-01 ┆ 33    ┆ 1          ┆ 6505       ┆ … ┆ null      ┆ null      ┆ null      ┆ null      │\n",
       "│ 00:03:00   ┆       ┆            ┆            ┆   ┆           ┆           ┆           ┆           │\n",
       "│ UTC        ┆       ┆            ┆            ┆   ┆           ┆           ┆           ┆           │\n",
       "│ 2016-06-01 ┆ 33    ┆ 1          ┆ 6505       ┆ … ┆ null      ┆ null      ┆ null      ┆ null      │\n",
       "│ 00:04:00   ┆       ┆            ┆            ┆   ┆           ┆           ┆           ┆           │\n",
       "│ UTC        ┆       ┆            ┆            ┆   ┆           ┆           ┆           ┆           │\n",
       "│ …          ┆ …     ┆ …          ┆ …          ┆ … ┆ …         ┆ …         ┆ …         ┆ …         │\n",
       "│ 2025-01-07 ┆ 33    ┆ 1          ┆ 5002       ┆ … ┆ false     ┆ true      ┆ false     ┆ false     │\n",
       "│ 23:55:00   ┆       ┆            ┆            ┆   ┆           ┆           ┆           ┆           │\n",
       "│ UTC        ┆       ┆            ┆            ┆   ┆           ┆           ┆           ┆           │\n",
       "│ 2025-01-07 ┆ 33    ┆ 1          ┆ 5002       ┆ … ┆ false     ┆ true      ┆ false     ┆ false     │\n",
       "│ 23:56:00   ┆       ┆            ┆            ┆   ┆           ┆           ┆           ┆           │\n",
       "│ UTC        ┆       ┆            ┆            ┆   ┆           ┆           ┆           ┆           │\n",
       "│ 2025-01-07 ┆ 33    ┆ 1          ┆ 5002       ┆ … ┆ false     ┆ true      ┆ false     ┆ false     │\n",
       "│ 23:57:00   ┆       ┆            ┆            ┆   ┆           ┆           ┆           ┆           │\n",
       "│ UTC        ┆       ┆            ┆            ┆   ┆           ┆           ┆           ┆           │\n",
       "│ 2025-01-07 ┆ 33    ┆ 1          ┆ 5002       ┆ … ┆ false     ┆ false     ┆ false     ┆ false     │\n",
       "│ 23:58:00   ┆       ┆            ┆            ┆   ┆           ┆           ┆           ┆           │\n",
       "│ UTC        ┆       ┆            ┆            ┆   ┆           ┆           ┆           ┆           │\n",
       "│ 2025-01-07 ┆ 33    ┆ 1          ┆ 5002       ┆ … ┆ false     ┆ false     ┆ false     ┆ false     │\n",
       "│ 23:59:00   ┆       ┆            ┆            ┆   ┆           ┆           ┆           ┆           │\n",
       "│ UTC        ┆       ┆            ┆            ┆   ┆           ┆           ┆           ┆           │\n",
       "└────────────┴───────┴────────────┴────────────┴───┴───────────┴───────────┴───────────┴───────────┘"
      ]
     },
     "execution_count": 33,
     "metadata": {},
     "output_type": "execute_result"
    }
   ],
   "source": [
    "df = df.with_columns([\n",
    "    ((pl.col(\"ts_event\") - pl.col(\"macd_long_entry_ts\"))    <= pl.duration(minutes=10)).alias(\"macd_long_entry_valid\"),\n",
    "    ((pl.col(\"ts_event\") - pl.col(\"rsi_long_entry_ts\"))      <= pl.duration(minutes=10)).alias(\"rsi_long_entry_valid\"),\n",
    "    ((pl.col(\"ts_event\") - pl.col(\"rsi_long_exit_ts\"))      <= pl.duration(minutes=10)).alias(\"rsi_long_exit_valid\"), \n",
    "    ((pl.col(\"ts_event\") - pl.col(\"mid_macd_ts\"))      <= pl.duration(minutes=10)).alias(\"macd_long_exit_valid\"), \n",
    "    ((pl.col(\"ts_event\") - pl.col(\"macd_short_entry_ts\"))      <= pl.duration(minutes=10)).alias(\"macd_short_entry_valid\"),\n",
    "    ((pl.col(\"ts_event\") - pl.col(\"rsi_short_entry_ts\"))      <= pl.duration(minutes=10)).alias(\"rsi_short_entry_valid\"),  \n",
    "    ((pl.col(\"ts_event\") - pl.col(\"rsi_short_exit_ts\"))      <= pl.duration(minutes=10)).alias(\"rsi_short_exit_valid\"), \n",
    "    ((pl.col(\"ts_event\") - pl.col(\"mid_macd_ts\"))      <= pl.duration(minutes=10)).alias(\"macd_short_exit_valid\"), \n",
    "\n",
    "\n",
    "])\n",
    "\n",
    "df = df.with_columns([\n",
    "    (pl.col(\"macd_long_entry_valid\") & pl.col(\"rsi_long_entry_valid\")).alias(\"long_entry_signal\"),\n",
    "    (pl.col(\"rsi_long_exit_valid\") & pl.col(\"macd_long_exit_valid\")).alias(\"long_exit_signal\"),\n",
    "    (pl.col(\"macd_short_entry_valid\") & pl.col(\"rsi_short_entry_valid\")).alias(\"short_entry_signal\"),\n",
    "    (pl.col(\"macd_short_exit_valid\") & pl.col(\"rsi_short_exit_valid\")).alias(\"short_exit_signal\"),\n",
    "]\n",
    ")\n",
    "df"
   ]
  },
  {
   "cell_type": "code",
   "execution_count": 37,
   "metadata": {},
   "outputs": [],
   "source": [
    "for col, dtype in df.schema.items():\n",
    "    # Check if the column is a datetime and has a time zone;\n",
    "    # here we assume that timezone-aware datetime types are of type 'Datetime'\n",
    "    # and that the dt.replace_time_zone method is available.\n",
    "    if dtype == pl.Datetime:\n",
    "        df = df.with_columns(pl.col(col).dt.replace_time_zone(None))"
   ]
  },
  {
   "cell_type": "code",
   "execution_count": 40,
   "metadata": {},
   "outputs": [],
   "source": [
    "position = 0  # current position: 0 (flat), 1 (long), or -1 (short)\n",
    "positions = []  # store position for each row\n",
    "\n",
    "# Iterate row by row (assuming your DataFrame is sorted by time)\n",
    "for row in df.iter_rows(named=True):\n",
    "    pass\n",
    "    # Check entry signals (only take an entry if flat)\n",
    "    if position == 0:\n",
    "        if row[\"long_entry_signal\"]:\n",
    "            position = 1\n",
    "        elif row[\"short_entry_signal\"]:\n",
    "            position = -1\n",
    "\n",
    "    # Check exit signals (only exit if you are in the proper trade)\n",
    "    if position == 1 and row[\"long_exit_signal\"]:\n",
    "        position = 0\n",
    "    elif position == -1 and row[\"short_exit_signal\"]:\n",
    "        position = 0\n",
    "\n",
    "    positions.append(position)\n",
    "\n",
    "df = df.with_columns(pl.Series(\"position\", positions))\n"
   ]
  },
  {
   "cell_type": "code",
   "execution_count": 43,
   "metadata": {},
   "outputs": [
    {
     "data": {
      "text/html": [
       "<div><style>\n",
       ".dataframe > thead > tr,\n",
       ".dataframe > tbody > tr {\n",
       "  text-align: right;\n",
       "  white-space: pre-wrap;\n",
       "}\n",
       "</style>\n",
       "<small>shape: (3_017_600, 51)</small><table border=\"1\" class=\"dataframe\"><thead><tr><th>ts_event</th><th>rtype</th><th>publisher_id</th><th>instrument_id</th><th>open</th><th>high</th><th>low</th><th>close</th><th>volume</th><th>symbol</th><th>ema_fast</th><th>ema_slow</th><th>MACD</th><th>macd_signal</th><th>delta</th><th>gain</th><th>loss</th><th>avg_gain</th><th>avg_loss</th><th>RS</th><th>RSI</th><th>macd_cross_signal</th><th>high_rsi_signal</th><th>low_rsi_signal</th><th>middle_rsi_signal</th><th>middle_macd_signal</th><th>macd_long_entry_ts</th><th>rsi_long_entryts</th><th>macd_short_entry_ts</th><th>rsi_short_entry_ts</th><th>mid_rsi_ts</th><th>mid_macd_ts</th><th>rsi_long_entry_ts</th><th>rsi_long_exit_ts</th><th>rsi_short_exit_ts</th><th>macd_long_entry_valid</th><th>rsi_long_entry_valid</th><th>rsi_long_exit_valid</th><th>macd_long_exit_valid</th><th>macd_short_entry_valid</th><th>rsi_short_entry_valid</th><th>rsi_short_exit_valid</th><th>macd_short_exit_valid</th><th>long_entry_signal</th><th>long_exit_signal</th><th>short_entry_signal</th><th>short_exit_signal</th><th>position</th><th>price_return</th><th>strategy_return</th><th>cumulative_return</th></tr><tr><td>datetime[ns]</td><td>u8</td><td>u16</td><td>u32</td><td>f64</td><td>f64</td><td>f64</td><td>f64</td><td>u64</td><td>str</td><td>f64</td><td>f64</td><td>f64</td><td>f64</td><td>f64</td><td>f64</td><td>f64</td><td>f64</td><td>f64</td><td>f64</td><td>f64</td><td>i32</td><td>i32</td><td>i32</td><td>bool</td><td>bool</td><td>datetime[ns]</td><td>datetime[ns]</td><td>datetime[ns]</td><td>datetime[ns]</td><td>datetime[ns]</td><td>datetime[ns]</td><td>datetime[ns]</td><td>datetime[ns]</td><td>datetime[ns]</td><td>bool</td><td>bool</td><td>bool</td><td>bool</td><td>bool</td><td>bool</td><td>bool</td><td>bool</td><td>bool</td><td>bool</td><td>bool</td><td>bool</td><td>i64</td><td>f64</td><td>f64</td><td>f64</td></tr></thead><tbody><tr><td>2016-06-01 00:00:00</td><td>33</td><td>1</td><td>6505</td><td>2095.0</td><td>2095.5</td><td>2095.0</td><td>2095.25</td><td>118</td><td>&quot;ES.v.0&quot;</td><td>2095.25</td><td>2095.25</td><td>0.0</td><td>0.0</td><td>null</td><td>0.0</td><td>0.0</td><td>null</td><td>null</td><td>null</td><td>null</td><td>null</td><td>null</td><td>null</td><td>null</td><td>true</td><td>null</td><td>null</td><td>null</td><td>null</td><td>null</td><td>2016-06-01 00:00:00</td><td>null</td><td>null</td><td>null</td><td>null</td><td>null</td><td>null</td><td>true</td><td>null</td><td>null</td><td>null</td><td>true</td><td>null</td><td>null</td><td>null</td><td>null</td><td>0</td><td>null</td><td>null</td><td>null</td></tr><tr><td>2016-06-01 00:01:00</td><td>33</td><td>1</td><td>6505</td><td>2095.25</td><td>2095.25</td><td>2095.0</td><td>2095.25</td><td>34</td><td>&quot;ES.v.0&quot;</td><td>2095.25</td><td>2095.25</td><td>0.0</td><td>0.0</td><td>0.0</td><td>0.0</td><td>0.0</td><td>null</td><td>null</td><td>null</td><td>null</td><td>null</td><td>null</td><td>null</td><td>null</td><td>true</td><td>null</td><td>null</td><td>null</td><td>null</td><td>null</td><td>2016-06-01 00:01:00</td><td>null</td><td>null</td><td>null</td><td>null</td><td>null</td><td>null</td><td>true</td><td>null</td><td>null</td><td>null</td><td>true</td><td>null</td><td>null</td><td>null</td><td>null</td><td>0</td><td>0.0</td><td>0.0</td><td>0.0</td></tr><tr><td>2016-06-01 00:02:00</td><td>33</td><td>1</td><td>6505</td><td>2095.25</td><td>2095.5</td><td>2095.25</td><td>2095.25</td><td>109</td><td>&quot;ES.v.0&quot;</td><td>2095.25</td><td>2095.25</td><td>0.0</td><td>0.0</td><td>0.0</td><td>0.0</td><td>0.0</td><td>null</td><td>null</td><td>null</td><td>null</td><td>null</td><td>null</td><td>null</td><td>null</td><td>true</td><td>null</td><td>null</td><td>null</td><td>null</td><td>null</td><td>2016-06-01 00:02:00</td><td>null</td><td>null</td><td>null</td><td>null</td><td>null</td><td>null</td><td>true</td><td>null</td><td>null</td><td>null</td><td>true</td><td>null</td><td>null</td><td>null</td><td>null</td><td>0</td><td>0.0</td><td>0.0</td><td>0.0</td></tr><tr><td>2016-06-01 00:03:00</td><td>33</td><td>1</td><td>6505</td><td>2095.5</td><td>2095.5</td><td>2095.0</td><td>2095.0</td><td>56</td><td>&quot;ES.v.0&quot;</td><td>2095.179808</td><td>2095.183701</td><td>-0.003893</td><td>-0.001229</td><td>-0.25</td><td>0.0</td><td>0.25</td><td>null</td><td>null</td><td>null</td><td>null</td><td>null</td><td>null</td><td>null</td><td>null</td><td>true</td><td>null</td><td>null</td><td>null</td><td>null</td><td>null</td><td>2016-06-01 00:03:00</td><td>null</td><td>null</td><td>null</td><td>null</td><td>null</td><td>null</td><td>true</td><td>null</td><td>null</td><td>null</td><td>true</td><td>null</td><td>null</td><td>null</td><td>null</td><td>0</td><td>-0.000119</td><td>-0.0</td><td>0.0</td></tr><tr><td>2016-06-01 00:04:00</td><td>33</td><td>1</td><td>6505</td><td>2095.0</td><td>2095.5</td><td>2095.0</td><td>2095.25</td><td>66</td><td>&quot;ES.v.0&quot;</td><td>2095.196179</td><td>2095.198042</td><td>-0.001864</td><td>-0.001401</td><td>0.25</td><td>0.25</td><td>0.0</td><td>null</td><td>null</td><td>null</td><td>null</td><td>null</td><td>null</td><td>null</td><td>null</td><td>true</td><td>null</td><td>null</td><td>null</td><td>null</td><td>null</td><td>2016-06-01 00:04:00</td><td>null</td><td>null</td><td>null</td><td>null</td><td>null</td><td>null</td><td>true</td><td>null</td><td>null</td><td>null</td><td>true</td><td>null</td><td>null</td><td>null</td><td>null</td><td>0</td><td>0.000119</td><td>0.0</td><td>0.0</td></tr><tr><td>&hellip;</td><td>&hellip;</td><td>&hellip;</td><td>&hellip;</td><td>&hellip;</td><td>&hellip;</td><td>&hellip;</td><td>&hellip;</td><td>&hellip;</td><td>&hellip;</td><td>&hellip;</td><td>&hellip;</td><td>&hellip;</td><td>&hellip;</td><td>&hellip;</td><td>&hellip;</td><td>&hellip;</td><td>&hellip;</td><td>&hellip;</td><td>&hellip;</td><td>&hellip;</td><td>&hellip;</td><td>&hellip;</td><td>&hellip;</td><td>&hellip;</td><td>&hellip;</td><td>&hellip;</td><td>&hellip;</td><td>&hellip;</td><td>&hellip;</td><td>&hellip;</td><td>&hellip;</td><td>&hellip;</td><td>&hellip;</td><td>&hellip;</td><td>&hellip;</td><td>&hellip;</td><td>&hellip;</td><td>&hellip;</td><td>&hellip;</td><td>&hellip;</td><td>&hellip;</td><td>&hellip;</td><td>&hellip;</td><td>&hellip;</td><td>&hellip;</td><td>&hellip;</td><td>&hellip;</td><td>&hellip;</td><td>&hellip;</td><td>&hellip;</td></tr><tr><td>2025-01-07 23:55:00</td><td>33</td><td>1</td><td>5002</td><td>5956.5</td><td>5957.0</td><td>5956.25</td><td>5956.75</td><td>65</td><td>&quot;ES.v.0&quot;</td><td>5954.874011</td><td>5954.429028</td><td>0.444983</td><td>0.274852</td><td>0.25</td><td>0.25</td><td>0.0</td><td>0.29375</td><td>0.14375</td><td>2.043478</td><td>67.142857</td><td>null</td><td>null</td><td>null</td><td>false</td><td>false</td><td>2025-01-07 23:36:00</td><td>2025-01-07 23:24:00</td><td>2025-01-07 21:55:00</td><td>2025-01-07 21:36:00</td><td>2025-01-07 23:44:00</td><td>2025-01-07 23:49:00</td><td>2025-01-07 23:24:00</td><td>2025-01-07 23:47:00</td><td>2025-01-07 23:23:00</td><td>false</td><td>false</td><td>true</td><td>true</td><td>false</td><td>false</td><td>false</td><td>true</td><td>false</td><td>true</td><td>false</td><td>false</td><td>0</td><td>0.000042</td><td>0.0</td><td>-1.026842</td></tr><tr><td>2025-01-07 23:56:00</td><td>33</td><td>1</td><td>5002</td><td>5956.75</td><td>5957.0</td><td>5956.75</td><td>5957.0</td><td>52</td><td>&quot;ES.v.0&quot;</td><td>5955.037549</td><td>5954.52985</td><td>0.507698</td><td>0.310675</td><td>0.25</td><td>0.25</td><td>0.0</td><td>0.275</td><td>0.14375</td><td>1.913043</td><td>65.671642</td><td>null</td><td>null</td><td>null</td><td>false</td><td>false</td><td>2025-01-07 23:36:00</td><td>2025-01-07 23:24:00</td><td>2025-01-07 21:55:00</td><td>2025-01-07 21:36:00</td><td>2025-01-07 23:44:00</td><td>2025-01-07 23:49:00</td><td>2025-01-07 23:24:00</td><td>2025-01-07 23:47:00</td><td>2025-01-07 23:23:00</td><td>false</td><td>false</td><td>true</td><td>true</td><td>false</td><td>false</td><td>false</td><td>true</td><td>false</td><td>true</td><td>false</td><td>false</td><td>0</td><td>0.000042</td><td>0.0</td><td>-1.026842</td></tr><tr><td>2025-01-07 23:57:00</td><td>33</td><td>1</td><td>5002</td><td>5957.0</td><td>5958.0</td><td>5957.0</td><td>5958.0</td><td>159</td><td>&quot;ES.v.0&quot;</td><td>5955.26543</td><td>5954.665935</td><td>0.599495</td><td>0.355109</td><td>1.0</td><td>1.0</td><td>0.0</td><td>0.275</td><td>0.14375</td><td>1.913043</td><td>65.671642</td><td>null</td><td>null</td><td>null</td><td>false</td><td>false</td><td>2025-01-07 23:36:00</td><td>2025-01-07 23:24:00</td><td>2025-01-07 21:55:00</td><td>2025-01-07 21:36:00</td><td>2025-01-07 23:44:00</td><td>2025-01-07 23:49:00</td><td>2025-01-07 23:24:00</td><td>2025-01-07 23:47:00</td><td>2025-01-07 23:23:00</td><td>false</td><td>false</td><td>true</td><td>true</td><td>false</td><td>false</td><td>false</td><td>true</td><td>false</td><td>true</td><td>false</td><td>false</td><td>0</td><td>0.000168</td><td>0.0</td><td>-1.026842</td></tr><tr><td>2025-01-07 23:58:00</td><td>33</td><td>1</td><td>5002</td><td>5957.75</td><td>5958.5</td><td>5957.75</td><td>5958.25</td><td>140</td><td>&quot;ES.v.0&quot;</td><td>5955.495012</td><td>5954.806486</td><td>0.688526</td><td>0.406403</td><td>0.25</td><td>0.25</td><td>0.0</td><td>0.28125</td><td>0.14375</td><td>1.956522</td><td>66.176471</td><td>null</td><td>null</td><td>null</td><td>false</td><td>false</td><td>2025-01-07 23:36:00</td><td>2025-01-07 23:24:00</td><td>2025-01-07 21:55:00</td><td>2025-01-07 21:36:00</td><td>2025-01-07 23:44:00</td><td>2025-01-07 23:49:00</td><td>2025-01-07 23:24:00</td><td>2025-01-07 23:47:00</td><td>2025-01-07 23:23:00</td><td>false</td><td>false</td><td>false</td><td>true</td><td>false</td><td>false</td><td>false</td><td>true</td><td>false</td><td>false</td><td>false</td><td>false</td><td>0</td><td>0.000042</td><td>0.0</td><td>-1.026842</td></tr><tr><td>2025-01-07 23:59:00</td><td>33</td><td>1</td><td>5002</td><td>5958.25</td><td>5958.75</td><td>5957.75</td><td>5958.25</td><td>530</td><td>&quot;ES.v.0&quot;</td><td>5955.706934</td><td>5954.941526</td><td>0.765408</td><td>0.461635</td><td>0.0</td><td>0.0</td><td>0.0</td><td>0.26875</td><td>0.14375</td><td>1.869565</td><td>65.151515</td><td>null</td><td>null</td><td>null</td><td>false</td><td>false</td><td>2025-01-07 23:36:00</td><td>2025-01-07 23:24:00</td><td>2025-01-07 21:55:00</td><td>2025-01-07 21:36:00</td><td>2025-01-07 23:44:00</td><td>2025-01-07 23:49:00</td><td>2025-01-07 23:24:00</td><td>2025-01-07 23:47:00</td><td>2025-01-07 23:23:00</td><td>false</td><td>false</td><td>false</td><td>true</td><td>false</td><td>false</td><td>false</td><td>true</td><td>false</td><td>false</td><td>false</td><td>false</td><td>0</td><td>0.0</td><td>0.0</td><td>-1.026842</td></tr></tbody></table></div>"
      ],
      "text/plain": [
       "shape: (3_017_600, 51)\n",
       "┌────────────┬───────┬────────────┬────────────┬───┬──────────┬────────────┬───────────┬───────────┐\n",
       "│ ts_event   ┆ rtype ┆ publisher_ ┆ instrument ┆ … ┆ position ┆ price_retu ┆ strategy_ ┆ cumulativ │\n",
       "│ ---        ┆ ---   ┆ id         ┆ _id        ┆   ┆ ---      ┆ rn         ┆ return    ┆ e_return  │\n",
       "│ datetime[n ┆ u8    ┆ ---        ┆ ---        ┆   ┆ i64      ┆ ---        ┆ ---       ┆ ---       │\n",
       "│ s]         ┆       ┆ u16        ┆ u32        ┆   ┆          ┆ f64        ┆ f64       ┆ f64       │\n",
       "╞════════════╪═══════╪════════════╪════════════╪═══╪══════════╪════════════╪═══════════╪═══════════╡\n",
       "│ 2016-06-01 ┆ 33    ┆ 1          ┆ 6505       ┆ … ┆ 0        ┆ null       ┆ null      ┆ null      │\n",
       "│ 00:00:00   ┆       ┆            ┆            ┆   ┆          ┆            ┆           ┆           │\n",
       "│ 2016-06-01 ┆ 33    ┆ 1          ┆ 6505       ┆ … ┆ 0        ┆ 0.0        ┆ 0.0       ┆ 0.0       │\n",
       "│ 00:01:00   ┆       ┆            ┆            ┆   ┆          ┆            ┆           ┆           │\n",
       "│ 2016-06-01 ┆ 33    ┆ 1          ┆ 6505       ┆ … ┆ 0        ┆ 0.0        ┆ 0.0       ┆ 0.0       │\n",
       "│ 00:02:00   ┆       ┆            ┆            ┆   ┆          ┆            ┆           ┆           │\n",
       "│ 2016-06-01 ┆ 33    ┆ 1          ┆ 6505       ┆ … ┆ 0        ┆ -0.000119  ┆ -0.0      ┆ 0.0       │\n",
       "│ 00:03:00   ┆       ┆            ┆            ┆   ┆          ┆            ┆           ┆           │\n",
       "│ 2016-06-01 ┆ 33    ┆ 1          ┆ 6505       ┆ … ┆ 0        ┆ 0.000119   ┆ 0.0       ┆ 0.0       │\n",
       "│ 00:04:00   ┆       ┆            ┆            ┆   ┆          ┆            ┆           ┆           │\n",
       "│ …          ┆ …     ┆ …          ┆ …          ┆ … ┆ …        ┆ …          ┆ …         ┆ …         │\n",
       "│ 2025-01-07 ┆ 33    ┆ 1          ┆ 5002       ┆ … ┆ 0        ┆ 0.000042   ┆ 0.0       ┆ -1.026842 │\n",
       "│ 23:55:00   ┆       ┆            ┆            ┆   ┆          ┆            ┆           ┆           │\n",
       "│ 2025-01-07 ┆ 33    ┆ 1          ┆ 5002       ┆ … ┆ 0        ┆ 0.000042   ┆ 0.0       ┆ -1.026842 │\n",
       "│ 23:56:00   ┆       ┆            ┆            ┆   ┆          ┆            ┆           ┆           │\n",
       "│ 2025-01-07 ┆ 33    ┆ 1          ┆ 5002       ┆ … ┆ 0        ┆ 0.000168   ┆ 0.0       ┆ -1.026842 │\n",
       "│ 23:57:00   ┆       ┆            ┆            ┆   ┆          ┆            ┆           ┆           │\n",
       "│ 2025-01-07 ┆ 33    ┆ 1          ┆ 5002       ┆ … ┆ 0        ┆ 0.000042   ┆ 0.0       ┆ -1.026842 │\n",
       "│ 23:58:00   ┆       ┆            ┆            ┆   ┆          ┆            ┆           ┆           │\n",
       "│ 2025-01-07 ┆ 33    ┆ 1          ┆ 5002       ┆ … ┆ 0        ┆ 0.0        ┆ 0.0       ┆ -1.026842 │\n",
       "│ 23:59:00   ┆       ┆            ┆            ┆   ┆          ┆            ┆           ┆           │\n",
       "└────────────┴───────┴────────────┴────────────┴───┴──────────┴────────────┴───────────┴───────────┘"
      ]
     },
     "execution_count": 43,
     "metadata": {},
     "output_type": "execute_result"
    }
   ],
   "source": [
    "# Calculate the percentage change in price\n",
    "df = df.with_columns(pl.col(\"close\").pct_change().alias(\"price_return\"))\n",
    "\n",
    "# Multiply by the current position to get the strategy return per period.\n",
    "# (The assumption here is that the trade’s performance during a period is\n",
    "#  determined by the position held at the beginning of that period.)\n",
    "df = df.with_columns((pl.col(\"price_return\") * pl.col(\"position\")).alias(\"strategy_return\"))\n",
    "\n",
    "# Optionally, compute the cumulative return\n",
    "df = df.with_columns(pl.col(\"strategy_return\").cum_sum().alias(\"cumulative_return\"))\n",
    "\n",
    "df"
   ]
  }
 ],
 "metadata": {
  "kernelspec": {
   "display_name": ".venv",
   "language": "python",
   "name": "python3"
  },
  "language_info": {
   "codemirror_mode": {
    "name": "ipython",
    "version": 3
   },
   "file_extension": ".py",
   "mimetype": "text/x-python",
   "name": "python",
   "nbconvert_exporter": "python",
   "pygments_lexer": "ipython3",
   "version": "3.11.0"
  }
 },
 "nbformat": 4,
 "nbformat_minor": 2
}
